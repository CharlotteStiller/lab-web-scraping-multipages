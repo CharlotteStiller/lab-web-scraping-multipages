{
 "cells": [
  {
   "cell_type": "markdown",
   "id": "classified-start",
   "metadata": {
    "toc": true
   },
   "source": [
    "<h1>Table of Contents<span class=\"tocSkip\"></span></h1>\n",
    "<div class=\"toc\"><ul class=\"toc-item\"><li><span><a href=\"#Retrieve-an-arbitrary-Wikipedia-page-of-&quot;Python&quot;-and-create-a-list-of-links-on-that-page\" data-toc-modified-id=\"Retrieve-an-arbitrary-Wikipedia-page-of-&quot;Python&quot;-and-create-a-list-of-links-on-that-page-1\"><span class=\"toc-item-num\">1&nbsp;&nbsp;</span>Retrieve an arbitrary Wikipedia page of \"Python\" and create a list of links on that page</a></span></li><li><span><a href=\"#Find-the-number-of-titles-that-have-changed-in-the-United-States-Code-since-its-last-release-point\" data-toc-modified-id=\"Find-the-number-of-titles-that-have-changed-in-the-United-States-Code-since-its-last-release-point-2\"><span class=\"toc-item-num\">2&nbsp;&nbsp;</span>Find the number of titles that have changed in the United States Code since its last release point</a></span></li><li><span><a href=\"#Create-a-Python-list-with-the-top-ten-FBI's-Most-Wanted-names\" data-toc-modified-id=\"Create-a-Python-list-with-the-top-ten-FBI's-Most-Wanted-names-3\"><span class=\"toc-item-num\">3&nbsp;&nbsp;</span>Create a Python list with the top ten FBI's Most Wanted names</a></span></li><li><span><a href=\"#Display-the-20-latest-earthquakes-info-(date,-time,-latitude,-longitude-and-region-name)-by-the-EMSC-as-a-pandas-dataframe\" data-toc-modified-id=\"Display-the-20-latest-earthquakes-info-(date,-time,-latitude,-longitude-and-region-name)-by-the-EMSC-as-a-pandas-dataframe-4\"><span class=\"toc-item-num\">4&nbsp;&nbsp;</span>Display the 20 latest earthquakes info (date, time, latitude, longitude and region name) by the EMSC as a pandas dataframe</a></span></li><li><span><a href=\"#List-all-language-names-and-number-of-related-articles-in-the-order-they-appear-in-wikipedia.org\" data-toc-modified-id=\"List-all-language-names-and-number-of-related-articles-in-the-order-they-appear-in-wikipedia.org-5\"><span class=\"toc-item-num\">5&nbsp;&nbsp;</span>List all language names and number of related articles in the order they appear in <a href=\"wikipedia.org\" target=\"_blank\">wikipedia.org</a></a></span></li><li><span><a href=\"#A-list-with-the-different-kind-of-datasets-available-in-data.gov.uk\" data-toc-modified-id=\"A-list-with-the-different-kind-of-datasets-available-in-data.gov.uk-6\"><span class=\"toc-item-num\">6&nbsp;&nbsp;</span>A list with the different kind of datasets available in <a href=\"data.gov.uk\" target=\"_blank\">data.gov.uk</a></a></span></li><li><span><a href=\"#Display-the-top-10-languages-by-number-of-native-speakers-stored-in-a-pandas-dataframe\" data-toc-modified-id=\"Display-the-top-10-languages-by-number-of-native-speakers-stored-in-a-pandas-dataframe-7\"><span class=\"toc-item-num\">7&nbsp;&nbsp;</span>Display the top 10 languages by number of native speakers stored in a pandas dataframe</a></span></li></ul></div>"
   ]
  },
  {
   "cell_type": "markdown",
   "id": "cellular-poster",
   "metadata": {},
   "source": [
    "As you've seen, scraping the internet is a skill that can get you all sorts of information. Here are some little challenges to gain more experience in the field"
   ]
  },
  {
   "cell_type": "markdown",
   "id": "express-introduction",
   "metadata": {},
   "source": [
    "### Retrieve an arbitrary Wikipedia page of \"Python\" and create a list of links on that page"
   ]
  },
  {
   "cell_type": "code",
   "execution_count": 4,
   "id": "9ce3545f",
   "metadata": {},
   "outputs": [],
   "source": [
    "from bs4 import BeautifulSoup as bs\n",
    "import requests\n",
    "import pandas as pd"
   ]
  },
  {
   "cell_type": "code",
   "execution_count": 3,
   "id": "appreciated-bubble",
   "metadata": {},
   "outputs": [],
   "source": [
    "# url ='https://en.wikipedia.org/wiki/Python'"
   ]
  },
  {
   "cell_type": "code",
   "execution_count": 18,
   "id": "376cbc4a",
   "metadata": {},
   "outputs": [
    {
     "name": "stdout",
     "output_type": "stream",
     "text": [
      "Wiki_Python: 200\n"
     ]
    }
   ],
   "source": [
    "wiki_python = requests.get(\"https://en.wikipedia.org/wiki/Python\")\n",
    "print(\"Wiki_Python:\", wiki_python.status_code)"
   ]
  },
  {
   "cell_type": "code",
   "execution_count": 42,
   "id": "f01cd1f0",
   "metadata": {},
   "outputs": [],
   "source": [
    "soup = BeautifulSoup(wiki_python.content, 'html.parser')"
   ]
  },
  {
   "cell_type": "code",
   "execution_count": 26,
   "id": "965de773",
   "metadata": {},
   "outputs": [],
   "source": [
    "links_python = soup.find_all(\"a\", href=True, text=True)"
   ]
  },
  {
   "cell_type": "markdown",
   "id": "0995bc7d",
   "metadata": {},
   "source": [
    "I tried to build a function to scrap links, but I get a little lost in time. Next time I would change the function, so that I could give different paramentes like \"href\", \"https\" to the function, so it is not only usefull for this case. "
   ]
  },
  {
   "cell_type": "code",
   "execution_count": 48,
   "id": "5d207bcb",
   "metadata": {},
   "outputs": [],
   "source": [
    "links_python_wiki = []\n",
    "\n",
    "def scraper_links(soup,links_list):\n",
    "    for link in soup.find_all(\"a\"):\n",
    "        url = link.get(\"href\", \"\")\n",
    "        if \"https\" in url:\n",
    "            links_list.append(url)\n",
    "    print(links_list)"
   ]
  },
  {
   "cell_type": "code",
   "execution_count": 49,
   "id": "ffdea825",
   "metadata": {},
   "outputs": [
    {
     "name": "stdout",
     "output_type": "stream",
     "text": [
      "['https://en.wiktionary.org/wiki/Python', 'https://en.wiktionary.org/wiki/python', 'https://en.wikipedia.org/w/index.php?title=Special:WhatLinksHere/Python&namespace=0', 'https://en.wikipedia.org/w/index.php?title=Python&oldid=1048703433', 'https://donate.wikimedia.org/wiki/Special:FundraiserRedirector?utm_source=donate&utm_medium=sidebar&utm_campaign=C13_en.wikipedia.org&uselang=en', 'https://www.wikidata.org/wiki/Special:EntityPage/Q747452', 'https://commons.wikimedia.org/wiki/Category:Python', 'https://af.wikipedia.org/wiki/Python', 'https://als.wikipedia.org/wiki/Python', 'https://ar.wikipedia.org/wiki/%D8%A8%D8%A7%D9%8A%D8%AB%D9%88%D9%86_(%D8%AA%D9%88%D8%B6%D9%8A%D8%AD)', 'https://az.wikipedia.org/wiki/Python', 'https://bn.wikipedia.org/wiki/%E0%A6%AA%E0%A6%BE%E0%A6%87%E0%A6%A5%E0%A6%A8_(%E0%A6%A6%E0%A7%8D%E0%A6%AC%E0%A7%8D%E0%A6%AF%E0%A6%B0%E0%A7%8D%E0%A6%A5%E0%A6%A4%E0%A6%BE_%E0%A6%A8%E0%A6%BF%E0%A6%B0%E0%A6%B8%E0%A6%A8)', 'https://be.wikipedia.org/wiki/Python', 'https://bg.wikipedia.org/wiki/%D0%9F%D0%B8%D1%82%D0%BE%D0%BD_(%D0%BF%D0%BE%D1%8F%D1%81%D0%BD%D0%B5%D0%BD%D0%B8%D0%B5)', 'https://cs.wikipedia.org/wiki/Python_(rozcestn%C3%ADk)', 'https://da.wikipedia.org/wiki/Python', 'https://de.wikipedia.org/wiki/Python', 'https://eo.wikipedia.org/wiki/Pitono_(apartigilo)', 'https://eu.wikipedia.org/wiki/Python_(argipena)', 'https://fa.wikipedia.org/wiki/%D9%BE%D8%A7%DB%8C%D8%AA%D9%88%D9%86', 'https://fr.wikipedia.org/wiki/Python', 'https://ko.wikipedia.org/wiki/%ED%8C%8C%EC%9D%B4%EC%84%A0', 'https://hr.wikipedia.org/wiki/Python_(razdvojba)', 'https://io.wikipedia.org/wiki/Pitono', 'https://id.wikipedia.org/wiki/Python', 'https://ia.wikipedia.org/wiki/Python_(disambiguation)', 'https://is.wikipedia.org/wiki/Python_(a%C3%B0greining)', 'https://it.wikipedia.org/wiki/Python_(disambigua)', 'https://he.wikipedia.org/wiki/%D7%A4%D7%99%D7%AA%D7%95%D7%9F', 'https://ka.wikipedia.org/wiki/%E1%83%9E%E1%83%98%E1%83%97%E1%83%9D%E1%83%9C%E1%83%98_(%E1%83%9B%E1%83%A0%E1%83%90%E1%83%95%E1%83%90%E1%83%9A%E1%83%9B%E1%83%9C%E1%83%98%E1%83%A8%E1%83%95%E1%83%9C%E1%83%94%E1%83%9A%E1%83%9D%E1%83%95%E1%83%90%E1%83%9C%E1%83%98)', 'https://kg.wikipedia.org/wiki/Mboma_(nyoka)', 'https://la.wikipedia.org/wiki/Python_(discretiva)', 'https://lb.wikipedia.org/wiki/Python', 'https://hu.wikipedia.org/wiki/Python_(egy%C3%A9rtelm%C5%B1s%C3%ADt%C5%91_lap)', 'https://mr.wikipedia.org/wiki/%E0%A4%AA%E0%A4%BE%E0%A4%AF%E0%A4%A5%E0%A5%89%E0%A4%A8_(%E0%A4%86%E0%A4%9C%E0%A5%8D%E0%A4%9E%E0%A4%BE%E0%A4%B5%E0%A4%B2%E0%A5%80_%E0%A4%AD%E0%A4%BE%E0%A4%B7%E0%A4%BE)', 'https://nl.wikipedia.org/wiki/Python', 'https://ja.wikipedia.org/wiki/%E3%83%91%E3%82%A4%E3%82%BD%E3%83%B3', 'https://no.wikipedia.org/wiki/Pyton', 'https://pl.wikipedia.org/wiki/Pyton', 'https://pt.wikipedia.org/wiki/Python_(desambigua%C3%A7%C3%A3o)', 'https://ru.wikipedia.org/wiki/Python_(%D0%B7%D0%BD%D0%B0%D1%87%D0%B5%D0%BD%D0%B8%D1%8F)', 'https://sk.wikipedia.org/wiki/Python', 'https://sr.wikipedia.org/wiki/%D0%9F%D0%B8%D1%82%D0%BE%D0%BD_(%D0%B2%D0%B8%D1%88%D0%B5%D0%B7%D0%BD%D0%B0%D1%87%D0%BD%D0%B0_%D0%BE%D0%B4%D1%80%D0%B5%D0%B4%D0%BD%D0%B8%D1%86%D0%B0)', 'https://sh.wikipedia.org/wiki/Python', 'https://fi.wikipedia.org/wiki/Python', 'https://sv.wikipedia.org/wiki/Pyton', 'https://th.wikipedia.org/wiki/%E0%B9%84%E0%B8%9E%E0%B8%97%E0%B8%AD%E0%B8%99', 'https://tr.wikipedia.org/wiki/Python', 'https://uk.wikipedia.org/wiki/%D0%9F%D1%96%D1%84%D0%BE%D0%BD', 'https://ur.wikipedia.org/wiki/%D9%BE%D8%A7%D8%A6%DB%8C%D8%AA%DA%BE%D9%88%D9%86', 'https://vi.wikipedia.org/wiki/Python', 'https://zh.wikipedia.org/wiki/Python_(%E6%B6%88%E6%AD%A7%E4%B9%89)', 'https://www.wikidata.org/wiki/Special:EntityPage/Q747452#sitelinks-wikipedia', 'https://foundation.wikimedia.org/wiki/Privacy_policy', 'https://www.mediawiki.org/wiki/Special:MyLanguage/How_to_contribute', 'https://stats.wikimedia.org/#/en.wikipedia.org', 'https://foundation.wikimedia.org/wiki/Cookie_statement', 'https://wikimediafoundation.org/', 'https://www.mediawiki.org/']\n"
     ]
    }
   ],
   "source": [
    "scraper_links(soup,links_python_wiki)"
   ]
  },
  {
   "cell_type": "code",
   "execution_count": 54,
   "id": "3c22a108",
   "metadata": {},
   "outputs": [
    {
     "name": "stdout",
     "output_type": "stream",
     "text": [
      "                                                links\n",
      "0               https://en.wiktionary.org/wiki/Python\n",
      "1               https://en.wiktionary.org/wiki/python\n",
      "2   https://en.wikipedia.org/w/index.php?title=Spe...\n",
      "3   https://en.wikipedia.org/w/index.php?title=Pyt...\n",
      "4   https://donate.wikimedia.org/wiki/Special:Fund...\n",
      "5   https://www.wikidata.org/wiki/Special:EntityPa...\n",
      "6   https://commons.wikimedia.org/wiki/Category:Py...\n",
      "7                https://af.wikipedia.org/wiki/Python\n",
      "8               https://als.wikipedia.org/wiki/Python\n",
      "9   https://ar.wikipedia.org/wiki/%D8%A8%D8%A7%D9%...\n",
      "10               https://az.wikipedia.org/wiki/Python\n",
      "11  https://bn.wikipedia.org/wiki/%E0%A6%AA%E0%A6%...\n",
      "12               https://be.wikipedia.org/wiki/Python\n",
      "13  https://bg.wikipedia.org/wiki/%D0%9F%D0%B8%D1%...\n",
      "14  https://cs.wikipedia.org/wiki/Python_(rozcestn...\n",
      "15               https://da.wikipedia.org/wiki/Python\n",
      "16               https://de.wikipedia.org/wiki/Python\n",
      "17  https://eo.wikipedia.org/wiki/Pitono_(apartigilo)\n",
      "18    https://eu.wikipedia.org/wiki/Python_(argipena)\n",
      "19  https://fa.wikipedia.org/wiki/%D9%BE%D8%A7%DB%...\n",
      "20               https://fr.wikipedia.org/wiki/Python\n",
      "21  https://ko.wikipedia.org/wiki/%ED%8C%8C%EC%9D%...\n",
      "22   https://hr.wikipedia.org/wiki/Python_(razdvojba)\n",
      "23               https://io.wikipedia.org/wiki/Pitono\n",
      "24               https://id.wikipedia.org/wiki/Python\n",
      "25  https://ia.wikipedia.org/wiki/Python_(disambig...\n",
      "26  https://is.wikipedia.org/wiki/Python_(a%C3%B0g...\n",
      "27  https://it.wikipedia.org/wiki/Python_(disambigua)\n",
      "28  https://he.wikipedia.org/wiki/%D7%A4%D7%99%D7%...\n",
      "29  https://ka.wikipedia.org/wiki/%E1%83%9E%E1%83%...\n",
      "30        https://kg.wikipedia.org/wiki/Mboma_(nyoka)\n",
      "31  https://la.wikipedia.org/wiki/Python_(discretiva)\n",
      "32               https://lb.wikipedia.org/wiki/Python\n",
      "33  https://hu.wikipedia.org/wiki/Python_(egy%C3%A...\n",
      "34  https://mr.wikipedia.org/wiki/%E0%A4%AA%E0%A4%...\n",
      "35               https://nl.wikipedia.org/wiki/Python\n",
      "36  https://ja.wikipedia.org/wiki/%E3%83%91%E3%82%...\n",
      "37                https://no.wikipedia.org/wiki/Pyton\n",
      "38                https://pl.wikipedia.org/wiki/Pyton\n",
      "39  https://pt.wikipedia.org/wiki/Python_(desambig...\n",
      "40  https://ru.wikipedia.org/wiki/Python_(%D0%B7%D...\n",
      "41               https://sk.wikipedia.org/wiki/Python\n",
      "42  https://sr.wikipedia.org/wiki/%D0%9F%D0%B8%D1%...\n",
      "43               https://sh.wikipedia.org/wiki/Python\n",
      "44               https://fi.wikipedia.org/wiki/Python\n",
      "45                https://sv.wikipedia.org/wiki/Pyton\n",
      "46  https://th.wikipedia.org/wiki/%E0%B9%84%E0%B8%...\n",
      "47               https://tr.wikipedia.org/wiki/Python\n",
      "48  https://uk.wikipedia.org/wiki/%D0%9F%D1%96%D1%...\n",
      "49  https://ur.wikipedia.org/wiki/%D9%BE%D8%A7%D8%...\n",
      "50               https://vi.wikipedia.org/wiki/Python\n",
      "51  https://zh.wikipedia.org/wiki/Python_(%E6%B6%8...\n",
      "52  https://www.wikidata.org/wiki/Special:EntityPa...\n",
      "53  https://foundation.wikimedia.org/wiki/Privacy_...\n",
      "54  https://www.mediawiki.org/wiki/Special:MyLangu...\n",
      "55     https://stats.wikimedia.org/#/en.wikipedia.org\n",
      "56  https://foundation.wikimedia.org/wiki/Cookie_s...\n",
      "57                   https://wikimediafoundation.org/\n",
      "58                         https://www.mediawiki.org/\n"
     ]
    }
   ],
   "source": [
    "links = pd.DataFrame(\n",
    "    {\"links\": links_python_wiki}\n",
    ")\n",
    "print(links)"
   ]
  },
  {
   "cell_type": "markdown",
   "id": "relevant-performer",
   "metadata": {},
   "source": [
    "### Find the number of titles that have changed in the United States Code since its last release point"
   ]
  },
  {
   "cell_type": "code",
   "execution_count": 56,
   "id": "scenic-surgeon",
   "metadata": {},
   "outputs": [],
   "source": [
    "url = 'http://uscode.house.gov/download/download.shtml'"
   ]
  },
  {
   "cell_type": "code",
   "execution_count": 57,
   "id": "52384dbc",
   "metadata": {},
   "outputs": [
    {
     "name": "stdout",
     "output_type": "stream",
     "text": [
      "United_States_Code: 200\n"
     ]
    }
   ],
   "source": [
    "United_States_Code = requests.get(url)\n",
    "print(\"United_States_Code:\", United_States_Code.status_code)"
   ]
  },
  {
   "cell_type": "code",
   "execution_count": 70,
   "id": "42270f5f",
   "metadata": {},
   "outputs": [],
   "source": [
    "soup = BeautifulSoup(United_States_Code.content, 'html.parser')"
   ]
  },
  {
   "cell_type": "code",
   "execution_count": 76,
   "id": "5381bdbb",
   "metadata": {},
   "outputs": [],
   "source": [
    "changed_titles = soup.find_all(\"div\", class_=\"usctitlechanged\")"
   ]
  },
  {
   "cell_type": "code",
   "execution_count": 8,
   "id": "02e2ee02",
   "metadata": {},
   "outputs": [],
   "source": [
    "def scraper_text(html, text_list): \n",
    "    for i in html:\n",
    "        text_list.append(i.get_text())\n",
    "    print(text_list)"
   ]
  },
  {
   "cell_type": "code",
   "execution_count": 80,
   "id": "33b70523",
   "metadata": {},
   "outputs": [
    {
     "name": "stdout",
     "output_type": "stream",
     "text": [
      "['\\n\\n          Title 1 - General Provisions ٭\\n', '\\n\\n          Title 5 - Government Organization and Employees ٭\\n', '\\n\\n          Title 8 - Aliens and Nationality\\n\\n        ', '\\n\\n          Title 11 - Bankruptcy ٭\\n', '\\n\\n          Title 18 - Crimes and Criminal Procedure ٭\\n', '\\n\\n          Title 23 - Highways ٭\\n', '\\n\\n          Title 26 - Internal Revenue Code\\n\\n        ', '\\n\\n          Title 42 - The Public Health and Welfare\\n\\n        ']\n"
     ]
    }
   ],
   "source": [
    "scraper_text(changed_titles, changed_titles_list)"
   ]
  },
  {
   "cell_type": "code",
   "execution_count": 104,
   "id": "129f57d5",
   "metadata": {},
   "outputs": [
    {
     "name": "stdout",
     "output_type": "stream",
     "text": [
      "['Title 1 - General Provisions ٭', 'Title 5 - Government Organization and Employees ٭', 'Title 8 - Aliens and Nationality', 'Title 11 - Bankruptcy ٭', 'Title 18 - Crimes and Criminal Procedure ٭', 'Title 23 - Highways ٭', 'Title 26 - Internal Revenue Code', 'Title 42 - The Public Health and Welfare']\n"
     ]
    }
   ],
   "source": [
    "print(list(map(str.strip, changed_titles_list)))"
   ]
  },
  {
   "cell_type": "markdown",
   "id": "d72d9b5a",
   "metadata": {},
   "source": [
    "There are 8 titles have changed since its last release point. (Title 1, 5, 8, 11, 18, 23, 26, 42)"
   ]
  },
  {
   "cell_type": "markdown",
   "id": "acute-necessity",
   "metadata": {},
   "source": [
    "### Create a Python list with the top ten FBI's Most Wanted names"
   ]
  },
  {
   "cell_type": "code",
   "execution_count": 83,
   "id": "starting-blackberry",
   "metadata": {},
   "outputs": [
    {
     "name": "stdout",
     "output_type": "stream",
     "text": [
      "FBI_most_wanted: 200\n"
     ]
    }
   ],
   "source": [
    "url = 'https://www.fbi.gov/wanted/topten'\n",
    "FBI_most_wanted = requests.get(url)\n",
    "print(\"FBI_most_wanted:\", FBI_most_wanted.status_code)"
   ]
  },
  {
   "cell_type": "code",
   "execution_count": 84,
   "id": "672e7c45",
   "metadata": {},
   "outputs": [],
   "source": [
    "soup = BeautifulSoup(FBI_most_wanted.content, 'html.parser')"
   ]
  },
  {
   "cell_type": "code",
   "execution_count": 93,
   "id": "64f2ddb3",
   "metadata": {},
   "outputs": [],
   "source": [
    "FBI_most_wanted_names = soup.find_all(\"h3\")"
   ]
  },
  {
   "cell_type": "code",
   "execution_count": 94,
   "id": "edb5fb41",
   "metadata": {},
   "outputs": [],
   "source": [
    "FBI_most_wanted_names_list = []"
   ]
  },
  {
   "cell_type": "code",
   "execution_count": 95,
   "id": "2a45e44a",
   "metadata": {},
   "outputs": [
    {
     "name": "stdout",
     "output_type": "stream",
     "text": [
      "['\\nJASON DEREK BROWN\\n', '\\nALEXIS FLORES\\n', '\\nJOSE RODOLFO VILLARREAL-HERNANDEZ\\n', '\\nOCTAVIANO JUAREZ-CORRO\\n', '\\nEUGENE PALMER\\n', '\\nRAFAEL CARO-QUINTERO\\n', '\\nBHADRESHKUMAR CHETANBHAI PATEL\\n', '\\nALEJANDRO ROSALES CASTILLO\\n', '\\nROBERT WILLIAM FISHER\\n', '\\nARNOLDO JIMENEZ\\n', 'federal bureau of investigation', '\\nFBI.gov Contact Center\\n']\n"
     ]
    }
   ],
   "source": [
    "scraper_text(FBI_most_wanted_names, FBI_most_wanted_names_list)"
   ]
  },
  {
   "cell_type": "code",
   "execution_count": 103,
   "id": "ffad1e09",
   "metadata": {},
   "outputs": [
    {
     "name": "stdout",
     "output_type": "stream",
     "text": [
      "['JASON DEREK BROWN', 'ALEXIS FLORES', 'JOSE RODOLFO VILLARREAL-HERNANDEZ', 'OCTAVIANO JUAREZ-CORRO', 'EUGENE PALMER', 'RAFAEL CARO-QUINTERO', 'BHADRESHKUMAR CHETANBHAI PATEL', 'ALEJANDRO ROSALES CASTILLO', 'ROBERT WILLIAM FISHER', 'ARNOLDO JIMENEZ', 'federal bureau of investigation', 'FBI.gov Contact Center']\n"
     ]
    }
   ],
   "source": [
    "print(list(map(str.strip, FBI_most_wanted_names_list)))"
   ]
  },
  {
   "cell_type": "markdown",
   "id": "joined-induction",
   "metadata": {},
   "source": [
    "### Display the 20 latest earthquakes info (date, time, latitude, longitude and region name) by the EMSC as a pandas dataframe"
   ]
  },
  {
   "cell_type": "code",
   "execution_count": 105,
   "id": "copyrighted-taiwan",
   "metadata": {},
   "outputs": [],
   "source": [
    "url = 'https://www.emsc-csem.org/Earthquake/'"
   ]
  },
  {
   "cell_type": "code",
   "execution_count": 106,
   "id": "1c8ed53c",
   "metadata": {},
   "outputs": [
    {
     "name": "stdout",
     "output_type": "stream",
     "text": [
      "Status Code: 200\n"
     ]
    }
   ],
   "source": [
    "re = requests.get(url)\n",
    "print(\"Status Code:\", re.status_code)"
   ]
  },
  {
   "cell_type": "code",
   "execution_count": 107,
   "id": "ce69e0f3",
   "metadata": {},
   "outputs": [],
   "source": [
    "soup = BeautifulSoup(re.content, 'html.parser')\n",
    "#<a href=\"/Earthquake/earthquake.php?id=1045716\">2021-10-08&nbsp;&nbsp;&nbsp;16:28:46.0</a>"
   ]
  },
  {
   "cell_type": "code",
   "execution_count": 113,
   "id": "af9fe963",
   "metadata": {},
   "outputs": [
    {
     "name": "stdout",
     "output_type": "stream",
     "text": [
      "['earthquake2021-10-08\\xa0\\xa0\\xa016:33:53.525min ago', 'earthquake2021-10-08\\xa0\\xa0\\xa016:28:46.030min ago', 'earthquake2021-10-08\\xa0\\xa0\\xa016:26:54.032min ago', 'earthquake2021-10-08\\xa0\\xa0\\xa016:26:03.733min ago', 'earthquake2021-10-08\\xa0\\xa0\\xa016:23:52.035min ago', 'earthquake2021-10-08\\xa0\\xa0\\xa016:09:44.349min ago', 'earthquake2021-10-08\\xa0\\xa0\\xa015:53:38.31hr 05min ago', 'earthquake2021-10-08\\xa0\\xa0\\xa015:44:39.31hr 14min ago', 'earthquake2021-10-08\\xa0\\xa0\\xa015:28:00.01hr 31min ago', 'earthquake2021-10-08\\xa0\\xa0\\xa015:25:24.01hr 33min ago', 'earthquake2021-10-08\\xa0\\xa0\\xa015:24:34.31hr 34min ago', 'earthquake2021-10-08\\xa0\\xa0\\xa015:20:48.51hr 38min ago', 'earthquake2021-10-08\\xa0\\xa0\\xa015:18:08.01hr 40min ago', 'earthquake2021-10-08\\xa0\\xa0\\xa015:08:11.91hr 50min ago', 'earthquake2021-10-08\\xa0\\xa0\\xa014:30:40.92hr 28min ago', 'earthquake2021-10-08\\xa0\\xa0\\xa014:24:02.92hr 35min ago', 'earthquake2021-10-08\\xa0\\xa0\\xa014:23:39.72hr 35min ago', 'earthquake2021-10-08\\xa0\\xa0\\xa014:17:51.22hr 41min ago', 'earthquake2021-10-08\\xa0\\xa0\\xa014:16:13.82hr 42min ago', 'earthquake2021-10-08\\xa0\\xa0\\xa014:09:32.02hr 49min ago', 'earthquake2021-10-08\\xa0\\xa0\\xa013:51:23.23hr 07min ago', 'earthquake2021-10-08\\xa0\\xa0\\xa013:51:10.03hr 07min ago', 'earthquake2021-10-08\\xa0\\xa0\\xa013:31:27.03hr 27min ago', 'earthquake2021-10-08\\xa0\\xa0\\xa013:30:54.63hr 28min ago', 'earthquake2021-10-08\\xa0\\xa0\\xa013:27:14.73hr 31min ago', 'earthquake2021-10-08\\xa0\\xa0\\xa013:26:36.03hr 32min ago', 'earthquake2021-10-08\\xa0\\xa0\\xa013:25:45.03hr 33min ago', 'earthquake2021-10-08\\xa0\\xa0\\xa013:24:33.23hr 34min ago', 'earthquake2021-10-08\\xa0\\xa0\\xa013:24:14.73hr 34min ago', 'earthquake2021-10-08\\xa0\\xa0\\xa013:23:26.03hr 35min ago', 'earthquake2021-10-08\\xa0\\xa0\\xa013:22:43.63hr 36min ago', 'earthquake2021-10-08\\xa0\\xa0\\xa013:20:56.43hr 38min ago', 'earthquake2021-10-08\\xa0\\xa0\\xa013:20:36.13hr 38min ago', 'earthquake2021-10-08\\xa0\\xa0\\xa013:19:30.43hr 39min ago', 'earthquake2021-10-08\\xa0\\xa0\\xa013:17:49.13hr 41min ago', 'earthquake2021-10-08\\xa0\\xa0\\xa013:11:00.03hr 48min ago', 'earthquake2021-10-08\\xa0\\xa0\\xa013:07:17.03hr 51min ago', 'earthquake2021-10-08\\xa0\\xa0\\xa012:58:16.64hr 00min ago', 'earthquake2021-10-08\\xa0\\xa0\\xa012:55:08.84hr 03min ago', 'earthquake2021-10-08\\xa0\\xa0\\xa012:53:34.04hr 05min ago', 'earthquake2021-10-08\\xa0\\xa0\\xa012:46:00.34hr 13min ago', 'earthquake2021-10-08\\xa0\\xa0\\xa012:44:39.14hr 14min ago', 'earthquake2021-10-08\\xa0\\xa0\\xa012:37:09.04hr 21min ago', 'earthquake2021-10-08\\xa0\\xa0\\xa012:25:26.24hr 33min ago', 'earthquake2021-10-08\\xa0\\xa0\\xa012:16:55.54hr 42min ago', 'earthquake2021-10-08\\xa0\\xa0\\xa012:16:32.24hr 42min ago', 'earthquake2021-10-08\\xa0\\xa0\\xa012:11:33.64hr 47min ago', 'earthquake2021-10-08\\xa0\\xa0\\xa012:06:09.44hr 52min ago', 'earthquake2021-10-08\\xa0\\xa0\\xa012:05:58.04hr 53min ago', 'earthquake2021-10-08\\xa0\\xa0\\xa012:02:22.84hr 56min ago']\n"
     ]
    }
   ],
   "source": [
    "date_time_text = []\n",
    "date_time = soup.find_all(\"td\", class_='tabev6')\n",
    "scraper_text(date_time, date_time_text)"
   ]
  },
  {
   "cell_type": "code",
   "execution_count": 123,
   "id": "61a4b0e7",
   "metadata": {},
   "outputs": [],
   "source": [
    "s = soup.find_all(\"td\", class_='tabev6')"
   ]
  },
  {
   "cell_type": "code",
   "execution_count": 128,
   "id": "22980dba",
   "metadata": {},
   "outputs": [],
   "source": [
    "for i in soup.find_all(\"td\", class_='tabev6'):\n",
    "    if i.has_attr('datetime'):\n",
    "        date_time_text.append(i['datetime'])"
   ]
  },
  {
   "cell_type": "markdown",
   "id": "6b9410be",
   "metadata": {},
   "source": [
    "Have no idea how to give a clean version of this time data. "
   ]
  },
  {
   "cell_type": "code",
   "execution_count": 139,
   "id": "caa9f47e",
   "metadata": {},
   "outputs": [
    {
     "name": "stdout",
     "output_type": "stream",
     "text": [
      "['46.20\\xa0', '7.31\\xa0', '0.14\\xa0', '124.15\\xa0', '24.16\\xa0', '67.05\\xa0', '28.57\\xa0', '17.84\\xa0', '0.26\\xa0', '119.82\\xa0', '28.56\\xa0', '17.83\\xa0', '19.45\\xa0', '173.48\\xa0', '28.57\\xa0', '17.84\\xa0', '0.33\\xa0', '121.65\\xa0', '8.77\\xa0', '126.46\\xa0', '35.19\\xa0', '25.34\\xa0', '35.02\\xa0', '23.32\\xa0', '30.65\\xa0', '70.98\\xa0', '31.68\\xa0', '104.40\\xa0', '19.17\\xa0', '155.47\\xa0', '19.22\\xa0', '155.42\\xa0', '48.28\\xa0', '122.64\\xa0', '38.99\\xa0', '42.04\\xa0', '35.23\\xa0', '25.32\\xa0', '29.61\\xa0', '116.30\\xa0', '31.68\\xa0', '104.39\\xa0', '1.06\\xa0', '100.06\\xa0', '15.65\\xa0', '71.87\\xa0', '48.15\\xa0', '2.55\\xa0', '35.18\\xa0', '25.31\\xa0', '12.20\\xa0', '87.27\\xa0', '0.67\\xa0', '123.49\\xa0', '28.57\\xa0', '17.85\\xa0', '6.08\\xa0', '151.70\\xa0', '1.36\\xa0', '126.88\\xa0', '44.27\\xa0', '115.01\\xa0', '28.59\\xa0', '17.80\\xa0', '35.56\\xa0', '3.63\\xa0', '28.56\\xa0', '17.84\\xa0', '44.31\\xa0', '115.03\\xa0', '20.86\\xa0', '69.06\\xa0', '8.97\\xa0', '113.80\\xa0', '28.56\\xa0', '17.84\\xa0', '35.12\\xa0', '25.23\\xa0', '28.56\\xa0', '17.83\\xa0', '28.57\\xa0', '17.85\\xa0', '2.00\\xa0', '128.49\\xa0', '28.58\\xa0', '17.83\\xa0', '28.56\\xa0', '17.86\\xa0', '31.67\\xa0', '104.39\\xa0', '36.56\\xa0', '4.67\\xa0', '39.79\\xa0', '41.38\\xa0', '40.64\\xa0', '125.09\\xa0', '27.49\\xa0', '71.01\\xa0', '28.57\\xa0', '17.86\\xa0']\n"
     ]
    }
   ],
   "source": [
    "# latitude\n",
    "latitude_text = []\n",
    "latitude = soup.find_all(\"td\", class_='tabev1')\n",
    "scraper_text(latitude, latitude_text)"
   ]
  },
  {
   "cell_type": "code",
   "execution_count": 140,
   "id": "053dcdd8",
   "metadata": {},
   "outputs": [
    {
     "name": "stdout",
     "output_type": "stream",
     "text": [
      "['46.20', '7.31', '0.14', '124.15', '24.16', '67.05', '28.57', '17.84', '0.26', '119.82', '28.56', '17.83', '19.45', '173.48', '28.57', '17.84', '0.33', '121.65', '8.77', '126.46', '35.19', '25.34', '35.02', '23.32', '30.65', '70.98', '31.68', '104.40', '19.17', '155.47', '19.22', '155.42', '48.28', '122.64', '38.99', '42.04', '35.23', '25.32', '29.61', '116.30', '31.68', '104.39', '1.06', '100.06', '15.65', '71.87', '48.15', '2.55', '35.18', '25.31', '12.20', '87.27', '0.67', '123.49', '28.57', '17.85', '6.08', '151.70', '1.36', '126.88', '44.27', '115.01', '28.59', '17.80', '35.56', '3.63', '28.56', '17.84', '44.31', '115.03', '20.86', '69.06', '8.97', '113.80', '28.56', '17.84', '35.12', '25.23', '28.56', '17.83', '28.57', '17.85', '2.00', '128.49', '28.58', '17.83', '28.56', '17.86', '31.67', '104.39', '36.56', '4.67', '39.79', '41.38', '40.64', '125.09', '27.49', '71.01', '28.57', '17.86']\n"
     ]
    }
   ],
   "source": [
    "latitude_text_new =[]\n",
    "for i in latitude_text: \n",
    "    latitude_text_new.append(i.replace('\\xa0', ''))\n",
    "print(latitude_text_new)"
   ]
  },
  {
   "cell_type": "markdown",
   "id": "73e12e3f",
   "metadata": {},
   "source": [
    "don't now how to seperate longitude and latitude because they have the same tag: tabev1"
   ]
  },
  {
   "cell_type": "code",
   "execution_count": 141,
   "id": "9ca0f58d",
   "metadata": {},
   "outputs": [
    {
     "name": "stdout",
     "output_type": "stream",
     "text": [
      "['\\xa0SWITZERLAND', '\\xa0MOLUCCA SEA', '\\xa0SALTA, ARGENTINA', '\\xa0CANARY ISLANDS, SPAIN REGION', '\\xa0MINAHASA, SULAWESI, INDONESIA', '\\xa0CANARY ISLANDS, SPAIN REGION', '\\xa0TONGA', '\\xa0CANARY ISLANDS, SPAIN REGION', '\\xa0SULAWESI, INDONESIA', '\\xa0MINDANAO, PHILIPPINES', '\\xa0CRETE, GREECE', '\\xa0CRETE, GREECE', '\\xa0COQUIMBO, CHILE', '\\xa0WESTERN TEXAS', '\\xa0ISLAND OF HAWAII, HAWAII', '\\xa0ISLAND OF HAWAII, HAWAII', '\\xa0PUGET SOUND REGION, WASHINGTON', '\\xa0EASTERN TURKEY', '\\xa0CRETE, GREECE', '\\xa0OFFSHORE BAJA CALIFORNIA, MEXICO', '\\xa0WESTERN TEXAS', '\\xa0NORTHERN SUMATRA, INDONESIA', '\\xa0SOUTHERN PERU', '\\xa0FRANCE', '\\xa0CRETE, GREECE', '\\xa0NEAR COAST OF NICARAGUA', '\\xa0MINAHASA, SULAWESI, INDONESIA', '\\xa0CANARY ISLANDS, SPAIN REGION', '\\xa0NEW BRITAIN REGION, P.N.G.', '\\xa0MOLUCCA SEA', '\\xa0SOUTHERN IDAHO', '\\xa0CANARY ISLANDS, SPAIN REGION', '\\xa0STRAIT OF GIBRALTAR', '\\xa0CANARY ISLANDS, SPAIN REGION', '\\xa0SOUTHERN IDAHO', '\\xa0TARAPACA, CHILE', '\\xa0JAVA, INDONESIA', '\\xa0CANARY ISLANDS, SPAIN REGION', '\\xa0CRETE, GREECE', '\\xa0CANARY ISLANDS, SPAIN REGION', '\\xa0CANARY ISLANDS, SPAIN REGION', '\\xa0HALMAHERA, INDONESIA', '\\xa0CANARY ISLANDS, SPAIN REGION', '\\xa0CANARY ISLANDS, SPAIN REGION', '\\xa0WESTERN TEXAS', '\\xa0STRAIT OF GIBRALTAR', '\\xa0EASTERN TURKEY', '\\xa0OFFSHORE NORTHERN CALIFORNIA', '\\xa0OFFSHORE ATACAMA, CHILE', '\\xa0CANARY ISLANDS, SPAIN REGION']\n"
     ]
    }
   ],
   "source": [
    "region_text = []\n",
    "region = soup.find_all(\"td\", class_='tb_region')\n",
    "scraper_text(region, region_text)"
   ]
  },
  {
   "cell_type": "code",
   "execution_count": 142,
   "id": "e92b2737",
   "metadata": {},
   "outputs": [
    {
     "name": "stdout",
     "output_type": "stream",
     "text": [
      "['SWITZERLAND', 'MOLUCCA SEA', 'SALTA, ARGENTINA', 'CANARY ISLANDS, SPAIN REGION', 'MINAHASA, SULAWESI, INDONESIA', 'CANARY ISLANDS, SPAIN REGION', 'TONGA', 'CANARY ISLANDS, SPAIN REGION', 'SULAWESI, INDONESIA', 'MINDANAO, PHILIPPINES', 'CRETE, GREECE', 'CRETE, GREECE', 'COQUIMBO, CHILE', 'WESTERN TEXAS', 'ISLAND OF HAWAII, HAWAII', 'ISLAND OF HAWAII, HAWAII', 'PUGET SOUND REGION, WASHINGTON', 'EASTERN TURKEY', 'CRETE, GREECE', 'OFFSHORE BAJA CALIFORNIA, MEXICO', 'WESTERN TEXAS', 'NORTHERN SUMATRA, INDONESIA', 'SOUTHERN PERU', 'FRANCE', 'CRETE, GREECE', 'NEAR COAST OF NICARAGUA', 'MINAHASA, SULAWESI, INDONESIA', 'CANARY ISLANDS, SPAIN REGION', 'NEW BRITAIN REGION, P.N.G.', 'MOLUCCA SEA', 'SOUTHERN IDAHO', 'CANARY ISLANDS, SPAIN REGION', 'STRAIT OF GIBRALTAR', 'CANARY ISLANDS, SPAIN REGION', 'SOUTHERN IDAHO', 'TARAPACA, CHILE', 'JAVA, INDONESIA', 'CANARY ISLANDS, SPAIN REGION', 'CRETE, GREECE', 'CANARY ISLANDS, SPAIN REGION', 'CANARY ISLANDS, SPAIN REGION', 'HALMAHERA, INDONESIA', 'CANARY ISLANDS, SPAIN REGION', 'CANARY ISLANDS, SPAIN REGION', 'WESTERN TEXAS', 'STRAIT OF GIBRALTAR', 'EASTERN TURKEY', 'OFFSHORE NORTHERN CALIFORNIA', 'OFFSHORE ATACAMA, CHILE', 'CANARY ISLANDS, SPAIN REGION']\n"
     ]
    }
   ],
   "source": [
    "region_text_new =[]\n",
    "for i in region_text: \n",
    "    region_text_new.append(i.replace('\\xa0', ''))\n",
    "print(region_text_new)"
   ]
  },
  {
   "cell_type": "code",
   "execution_count": null,
   "id": "8bf8df92",
   "metadata": {},
   "outputs": [],
   "source": [
    "# the two list haven't the same length so I can't build an dataframe \n",
    "df = pd.DataFrame(\n",
    "    {\"latitude\": latitude_text_new, \"region\" : region_text_new}\n",
    ")\n",
    "print(df)"
   ]
  },
  {
   "cell_type": "markdown",
   "id": "dominican-defeat",
   "metadata": {},
   "source": [
    "### List all language names and number of related articles in the order they appear in [wikipedia.org](wikipedia.org)"
   ]
  },
  {
   "cell_type": "code",
   "execution_count": 6,
   "id": "metric-vertex",
   "metadata": {},
   "outputs": [
    {
     "name": "stdout",
     "output_type": "stream",
     "text": [
      "Status Code: 200\n"
     ]
    }
   ],
   "source": [
    "url = 'https://www.wikipedia.org/'\n",
    "re = requests.get(url)\n",
    "print(\"Status Code:\", re.status_code)\n",
    "soup = bs(re.content, 'html.parser')"
   ]
  },
  {
   "cell_type": "code",
   "execution_count": 9,
   "id": "496692ac",
   "metadata": {},
   "outputs": [
    {
     "name": "stdout",
     "output_type": "stream",
     "text": [
      "['The Free Encyclopedia', 'English', '日本語', 'Español', 'Deutsch', 'Русский', 'Français', '中文', 'Italiano', 'Português', 'Polski', '\\n\\nDownload Wikipedia for Android or iOS\\n\\n']\n"
     ]
    }
   ],
   "source": [
    "languages_text = []\n",
    "languages = soup.find_all(\"strong\")\n",
    "scraper_text(languages, languages_text)\n",
    "# <strong>English</strong>"
   ]
  },
  {
   "cell_type": "code",
   "execution_count": 10,
   "id": "4a58a127",
   "metadata": {},
   "outputs": [
    {
     "data": {
      "text/plain": [
       "['English',\n",
       " '日本語',\n",
       " 'Español',\n",
       " 'Deutsch',\n",
       " 'Русский',\n",
       " 'Français',\n",
       " '中文',\n",
       " 'Italiano',\n",
       " 'Português',\n",
       " 'Polski']"
      ]
     },
     "execution_count": 10,
     "metadata": {},
     "output_type": "execute_result"
    }
   ],
   "source": [
    "languages_text.remove('\\n\\nDownload Wikipedia for Android or iOS\\n\\n')\n",
    "languages_text.remove('The Free Encyclopedia')\n",
    "languages_text"
   ]
  },
  {
   "cell_type": "code",
   "execution_count": 11,
   "id": "85c44a77",
   "metadata": {},
   "outputs": [
    {
     "name": "stdout",
     "output_type": "stream",
     "text": [
      "['6\\xa0383\\xa0000+', '1\\xa0292\\xa0000+', '1\\xa0717\\xa0000+', '2\\xa0617\\xa0000+', '1\\xa0756\\xa0000+', '2\\xa0362\\xa0000+', '1\\xa0231\\xa0000+', '1\\xa0718\\xa0000+', '1\\xa0074\\xa0000+', '1\\xa0490\\xa0000+', '\\n1\\xa0000\\xa0000+\\n', 'العربية', 'مصرى', '\\n100\\xa0000+\\n', 'فارسی', 'עברית', 'قازاقشا', 'تۆرکجه', 'اردو', '\\n10\\xa0000+\\n', 'هَوُسَا', 'كوردی', 'کوردیی ناوەندی', 'مازِرونی', 'پنجابی (شاہ مکھی)', 'پښتو', 'سنڌي', 'ייִדיש', '\\n1\\xa0000+\\n', 'ܐܬܘܪܝܐ', 'گیلکی', 'לאדינו', 'ئۇيغۇرچه', 'ދިވެހިބަސް', '\\n100+\\n', 'كشميري']\n"
     ]
    }
   ],
   "source": [
    "article_text = []\n",
    "article = soup.find_all(\"bdi\")\n",
    "scraper_text(article, article_text)"
   ]
  },
  {
   "cell_type": "code",
   "execution_count": 12,
   "id": "1c7dff25",
   "metadata": {},
   "outputs": [
    {
     "name": "stdout",
     "output_type": "stream",
     "text": [
      "['6383000', '1292000', '1717000', '2617000', '1756000', '2362000', '1231000', '1718000', '1074000', '1490000', '\\n1000000\\n', 'العربية', 'مصرى', '\\n100000\\n', 'فارسی', 'עברית', 'قازاقشا', 'تۆرکجه', 'اردو', '\\n10000\\n', 'هَوُسَا', 'كوردی', 'کوردیی ناوەندی', 'مازِرونی', 'پنجابی (شاہ مکھی)', 'پښتو', 'سنڌي', 'ייִדיש', '\\n1000\\n', 'ܐܬܘܪܝܐ', 'گیلکی', 'לאדינו', 'ئۇيغۇرچه', 'ދިވެހިބަސް', '\\n100\\n', 'كشميري']\n"
     ]
    }
   ],
   "source": [
    "article_text_new =[]\n",
    "for i in article_text: \n",
    "    article_text_new.append(i.replace('\\xa0', '').replace('+',''))\n",
    "print(article_text_new)"
   ]
  },
  {
   "cell_type": "code",
   "execution_count": 19,
   "id": "1ca81b07",
   "metadata": {},
   "outputs": [],
   "source": [
    "article_text_new = article_text_new[0:10]"
   ]
  },
  {
   "cell_type": "code",
   "execution_count": 20,
   "id": "5f3c5bac",
   "metadata": {},
   "outputs": [
    {
     "name": "stdout",
     "output_type": "stream",
     "text": [
      "  articles  languages\n",
      "0  6383000    English\n",
      "1  1292000        日本語\n",
      "2  1717000    Español\n",
      "3  2617000    Deutsch\n",
      "4  1756000    Русский\n",
      "5  2362000   Français\n",
      "6  1231000         中文\n",
      "7  1718000   Italiano\n",
      "8  1074000  Português\n",
      "9  1490000     Polski\n"
     ]
    }
   ],
   "source": [
    "df = pd.DataFrame(\n",
    "    {\"articles\": article_text_new, \n",
    "     \"languages\" : languages_text}\n",
    ")\n",
    "print(df)"
   ]
  },
  {
   "cell_type": "markdown",
   "id": "split-cartridge",
   "metadata": {},
   "source": [
    "### A list with the different kind of datasets available in [data.gov.uk](data.gov.uk)\n"
   ]
  },
  {
   "cell_type": "code",
   "execution_count": 23,
   "id": "actual-parallel",
   "metadata": {},
   "outputs": [
    {
     "name": "stdout",
     "output_type": "stream",
     "text": [
      "Status Code: 200\n"
     ]
    }
   ],
   "source": [
    "url = 'https://data.gov.uk/'\n",
    "re = requests.get(url)\n",
    "print(\"Status Code:\", re.status_code)\n",
    "soup = bs(re.content, 'html.parser')"
   ]
  },
  {
   "cell_type": "code",
   "execution_count": 41,
   "id": "6b44753c",
   "metadata": {},
   "outputs": [
    {
     "name": "stdout",
     "output_type": "stream",
     "text": [
      "['Business and economy', 'Crime and justice', 'Defence', 'Education', 'Environment', 'Government', 'Government spending', 'Health', 'Mapping', 'Society', 'Towns and cities', 'Transport', 'Digital service performance', 'Government reference data']\n"
     ]
    }
   ],
   "source": [
    "datasets_text = []\n",
    "datasets = soup.find('ul', attrs={'class': 'govuk-list dgu-topics__list'}).find_all('a', attrs={'class': 'govuk-link'})\n",
    "scraper_text(datasets, datasets_text)"
   ]
  },
  {
   "cell_type": "markdown",
   "id": "potential-malpractice",
   "metadata": {},
   "source": [
    "### Display the top 10 languages by number of native speakers stored in a pandas dataframe"
   ]
  },
  {
   "cell_type": "code",
   "execution_count": 55,
   "id": "adaptive-calculator",
   "metadata": {},
   "outputs": [
    {
     "name": "stdout",
     "output_type": "stream",
     "text": [
      "Status Code: 200\n"
     ]
    }
   ],
   "source": [
    "url = 'https://en.wikipedia.org/wiki/List_of_languages_by_number_of_native_speakers'\n",
    "re = requests.get(url)\n",
    "print(\"Status Code:\", re.status_code)\n",
    "soup = bs(re.content, 'html.parser')"
   ]
  },
  {
   "cell_type": "code",
   "execution_count": 121,
   "id": "095ce2f3",
   "metadata": {},
   "outputs": [
    {
     "name": "stdout",
     "output_type": "stream",
     "text": [
      "['1\\n', 'Mandarin Chinese\\n', '918\\n', '11.922%\\n', 'Sino-Tibetan\\n', 'Sinitic\\n', '2\\n', 'Spanish\\n', '480\\n', '5.994%\\n', 'Indo-European\\n', 'Romance\\n', '3\\n', 'English\\n', '379\\n', '4.922%\\n', 'Indo-European\\n', 'Germanic\\n', '4\\n', 'Hindi (sanskritised Hindustani)[9]\\n', '341\\n', '4.429%\\n', 'Indo-European\\n', 'Indo-Aryan\\n', '5\\n', 'Bengali\\n', '300\\n', '4.000%\\n', 'Indo-European\\n', 'Indo-Aryan\\n', '6\\n', 'Portuguese\\n', '221\\n', '2.870%\\n', 'Indo-European\\n', 'Romance\\n', '7\\n', 'Russian\\n', '154\\n', '2.000%\\n', 'Indo-European\\n', 'Balto-Slavic\\n', '8\\n', 'Japanese\\n', '128\\n', '1.662%\\n', 'Japonic\\n', 'Japanese\\n', '9\\n', 'Western Punjabi[10]\\n', '92.7\\n', '1.204%\\n', 'Indo-European\\n', 'Indo-Aryan\\n', '10\\n', 'Marathi\\n', '83.1\\n', '1.079%\\n', 'Indo-European\\n', 'Indo-Aryan\\n', '11\\n', 'Telugu\\n', '82.0\\n', '1.065%\\n', 'Dravidian\\n', 'South-Central\\n', '12\\n', 'Wu Chinese\\n', '81.4\\n', '1.057%\\n', 'Sino-Tibetan\\n', 'Sinitic\\n', '13\\n', 'Turkish\\n', '79.4\\n', '1.031%\\n', 'Turkic\\n', 'Oghuz\\n', '14\\n', 'Korean\\n', '77.3\\n', '1.004%\\n', 'Koreanic\\n', 'language isolate\\n', '15\\n', 'French\\n', '77.2\\n', '1.003%\\n', 'Indo-European\\n', 'Romance\\n', '16\\n', 'German (only Standard German)\\n', '76.1\\n', '0.988%\\n', 'Indo-European\\n', 'Germanic\\n', '17\\n', 'Vietnamese\\n', '76.0\\n', '0.987%\\n', 'Austroasiatic\\n', 'Vietic\\n', '18\\n', 'Tamil\\n', '75.0\\n', '0.974%\\n', 'Dravidian\\n', 'South\\n', '19\\n', 'Yue Chinese\\n', '73.1\\n', '0.949%\\n', 'Sino-Tibetan\\n', 'Sinitic\\n', '20\\n', 'Urdu (persianised Hindustani)[9]\\n', '68.6\\n', '0.891%\\n', 'Indo-European\\n', 'Indo-Aryan\\n', '21\\n', 'Javanese\\n', '68.3\\n', '0.887%\\n', 'Austronesian\\n', 'Malayo-Polynesian\\n', '22\\n', 'Italian\\n', '64.8\\n', '0.842%\\n', 'Indo-European\\n', 'Romance\\n', '23\\n', 'Egyptian Arabic\\n', '64.6\\n', '0.839%\\n', 'Afroasiatic\\n', 'Semitic\\n', '24\\n', 'Gujarati\\n', '56.4\\n', '0.732%\\n', 'Indo-European\\n', 'Indo-Aryan\\n', '25\\n', 'Iranian Persian\\n', '52.8\\n', '0.686%\\n', 'Indo-European\\n', 'Iranian\\n', '26\\n', 'Bhojpuri\\n', '52.2\\n', '0.678%\\n', 'Indo-European\\n', 'Indo-Aryan\\n', '27\\n', 'Southern Min\\n', '50.1\\n', '0.651%\\n', 'Sino-Tibetan\\n', 'Sinitic\\n', '28\\n', 'Hakka\\n', '48.2\\n', '0.626%\\n', 'Sino-Tibetan\\n', 'Sinitic\\n', '29\\n', 'Jin Chinese\\n', '46.9\\n', '0.609%\\n', 'Sino-Tibetan\\n', 'Sinitic\\n', '30\\n', 'Hausa\\n', '43.9\\n', '0.570%\\n', 'Afroasiatic\\n', 'Chadic\\n', '31\\n', 'Kannada\\n', '43.6\\n', '0.566%\\n', 'Dravidian\\n', 'South\\n', '32\\n', 'Indonesian\\n', '43.4\\n', '0.564%\\n', 'Austronesian\\n', 'Malayo-Polynesian\\n', '33\\n', 'Polish\\n', '39.7\\n', '0.516%\\n', 'Indo-European\\n', 'Balto-Slavic\\n', '34\\n', 'Yoruba\\n', '37.8\\n', '0.491%\\n', 'Niger–Congo\\n', 'Volta–Niger\\n', '35\\n', 'Xiang Chinese\\n', '37.3\\n', '0.484%\\n', 'Sino-Tibetan\\n', 'Sinitic\\n', '36\\n', 'Malayalam\\n', '37.1\\n', '0.482%\\n', 'Dravidian\\n', 'South\\n', '37\\n', 'Odia\\n', '34.5\\n', '0.448%\\n', 'Indo-European\\n', 'Indo-Aryan\\n', '38\\n', 'Maithili\\n', '33.9\\n', '0.440%\\n', 'Indo-European\\n', 'Indo-Aryan\\n', '39\\n', 'Burmese\\n', '32.9\\n', '0.427%\\n', 'Sino-Tibetan\\n', 'Lolo-Burmese\\n', '40\\n', 'Eastern Punjabi[10]\\n', '32.6\\n', '0.423%\\n', 'Indo-European\\n', 'Indo-Aryan\\n', '41\\n', 'Sunda\\n', '32.4\\n', '0.421%\\n', 'Austronesian\\n', 'Malayo-Polynesian\\n', '42\\n', 'Sudanese Arabic\\n', '31.9\\n', '0.414%\\n', 'Afroasiatic\\n', 'Semitic\\n', '43\\n', 'Algerian Arabic\\n', '29.4\\n', '0.382%\\n', 'Afroasiatic\\n', 'Semitic\\n', '44\\n', 'Moroccan Arabic\\n', '27.5\\n', '0.357%\\n', 'Afroasiatic\\n', 'Semitic\\n', '45\\n', 'Ukrainian\\n', '27.3\\n', '0.355%\\n', 'Indo-European\\n', 'Balto-Slavic\\n', '46\\n', 'Igbo\\n', '27.0\\n', '0.351%\\n', 'Niger–Congo\\n', 'Volta–Niger\\n', '47\\n', 'Northern Uzbek\\n', '25.1\\n', '0.326%\\n', 'Turkic\\n', 'Karluk\\n', '48\\n', 'Sindhi\\n', '24.6\\n', '0.319%\\n', 'Indo-European\\n', 'Indo-Aryan\\n', '49\\n', 'North Levantine Arabic\\n', '24.6\\n', '0.319%\\n', 'Afroasiatic\\n', 'Semitic\\n', '50\\n', 'Romanian\\n', '24.3\\n', '0.316%\\n', 'Indo-European\\n', 'Romance\\n', '51\\n', 'Tagalog\\n', '23.6\\n', '0.306%\\n', 'Austronesian\\n', 'Malayo-Polynesian\\n', '52\\n', 'Dutch\\n', '23.1\\n', '0.300%\\n', 'Indo-European\\n', 'Germanic\\n', '53\\n', 'Saʽidi Arabic\\n', '22.4\\n', '0.291%\\n', 'Afroasiatic\\n', 'Semitic\\n', '54\\n', 'Gan Chinese\\n', '22.1\\n', '0.287%\\n', 'Sino-Tibetan\\n', 'Sinitic\\n', '55\\n', 'Amharic\\n', '21.9\\n', '0.284%\\n', 'Afroasiatic\\n', 'Semitic\\n', '56\\n', 'Northern Pashto\\n', '20.9\\n', '0.271%\\n', 'Indo-European\\n', 'Iranian\\n', '57\\n', 'Magahi\\n', '20.7\\n', '0.269%\\n', 'Indo-European\\n', 'Indo-Aryan\\n', '58\\n', 'Thai\\n', '20.7\\n', '0.269%\\n', 'Kra–Dai\\n', 'Tai\\n', '59\\n', 'Saraiki\\n', '20.0\\n', '0.260%\\n', 'Indo-European\\n', 'Indo-Aryan\\n', '60\\n', 'Khmer\\n', '16.6\\n', '0.216%\\n', 'Austroasiatic\\n', 'Khmer\\n', '61\\n', 'Chhattisgarhi\\n', '16.3\\n', '0.212%\\n', 'Indo-European\\n', 'Indo-Aryan\\n', '62\\n', 'Somali\\n', '16.2\\n', '0.210%\\n', 'Afroasiatic\\n', 'Cushitic\\n', '63\\n', 'Malaysian (Malaysian Malay)\\n', '16.1\\n', '0.209%\\n', 'Austronesian\\n', 'Malayo-Polynesian\\n', '64\\n', 'Cebuano\\n', '15.9\\n', '0.206%\\n', 'Austronesian\\n', 'Malayo-Polynesian\\n', '65\\n', 'Nepali\\n', '15.8\\n', '0.205%\\n', 'Indo-European\\n', 'Indo-Aryan\\n', '66\\n', 'Mesopotamian Arabic\\n', '15.7\\n', '0.204%\\n', 'Afroasiatic\\n', 'Semitic\\n', '67\\n', 'Assamese\\n', '15.3\\n', '0.199%\\n', 'Indo-European\\n', 'Indo-Aryan\\n', '68\\n', 'Sinhalese\\n', '15.3\\n', '0.199%\\n', 'Indo-European\\n', 'Indo-Aryan\\n', '69\\n', 'Northern Kurdish\\n', '14.6\\n', '0.190%\\n', 'Indo-European\\n', 'Iranian\\n', '70\\n', 'Hejazi Arabic\\n', '14.5\\n', '0.188%\\n', 'Afroasiatic\\n', 'Semitic\\n', '71\\n', 'Nigerian Fulfulde\\n', '14.5\\n', '0.188%\\n', 'Niger–Congo\\n', 'Senegambian\\n', '72\\n', 'Bavarian\\n', '14.1\\n', '0.183%\\n', 'Indo-European\\n', 'Germanic\\n', '73\\n', 'South Azerbaijani\\n', '13.8\\n', '0.179%\\n', 'Turkic\\n', 'Oghuz\\n', '74\\n', 'Greek\\n', '13.1\\n', '0.170%\\n', 'Indo-European\\n', 'Hellenic\\n', '75\\n', 'Chittagonian\\n', '13.0\\n', '0.169%\\n', 'Indo-European\\n', 'Indo-Aryan\\n', '76\\n', 'Kazakh\\n', '12.9\\n', '0.168%\\n', 'Turkic\\n', 'Kipchak\\n', '77\\n', 'Deccan\\n', '12.8\\n', '0.166%\\n', 'Indo-European\\n', 'Indo-Aryan\\n', '78\\n', 'Hungarian\\n', '12.6\\n', '0.164%\\n', 'Uralic\\n', 'Finno-Ugric\\n', '79\\n', 'Kinyarwanda\\n', '12.1\\n', '0.157%\\n', 'Niger–Congo\\n', 'Bantu\\n', '80\\n', 'Zulu\\n', '12.1\\n', '0.157%\\n', 'Niger–Congo\\n', 'Bantu\\n', '81\\n', 'South Levantine Arabic\\n', '11.6\\n', '0.151%\\n', 'Afroasiatic\\n', 'Semitic\\n', '82\\n', 'Tunisian Arabic\\n', '11.6\\n', '0.151%\\n', 'Afroasiatic\\n', 'Semitic\\n', '83\\n', 'Sanaani Spoken Arabic\\n', '11.4\\n', '0.148%\\n', 'Afroasiatic\\n', 'Semitic\\n', '84\\n', 'Northern Min\\n', '11.0\\n', '0.143%\\n', 'Sino-Tibetan\\n', 'Sinitic\\n', '85\\n', 'Southern Pashto\\n', '10.9\\n', '0.142%\\n', 'Indo-European\\n', 'Iranian\\n', '86\\n', 'Rundi\\n', '10.8\\n', '0.140%\\n', 'Niger–Congo\\n', 'Bantu\\n', '87\\n', 'Czech\\n', '10.7\\n', '0.139%\\n', 'Indo-European\\n', 'Balto-Slavic\\n', '88\\n', 'Taʽizzi-Adeni Arabic\\n', '10.5\\n', '0.136%\\n', 'Afroasiatic\\n', 'Semitic\\n', '89\\n', 'Uyghur\\n', '10.4\\n', '0.135%\\n', 'Turkic\\n', 'Karluk\\n', '90\\n', 'Eastern Min\\n', '10.3\\n', '0.134%\\n', 'Sino-Tibetan\\n', 'Sinitic\\n', '91\\n', 'Sylheti\\n', '10.3\\n', '0.134%\\n', 'Indo-European\\n', 'Indo-Aryan\\n', '1', 'Mandarin (entire branch)', '935 (955)', '14.1%\\n', '2', 'Spanish', '390 (405)', '5.85%\\n', '3', 'English', '365 (360)', '5.52%\\n', '4', 'Hindi[a]', '295 (310)', '4.46%\\n', '5', 'Arabic', '280 (295)', '4.23%\\n', '6', 'Portuguese', '205 (215)', '3.08%\\n', '7', 'Bengali', '200 (205)', '3.05%\\n', '8', 'Russian', '160 (155)', '2.42%\\n', '9', 'Japanese', '125 (125)', '1.92%\\n', '10', 'Punjabi', '95 (100)', '1.44%\\n', '11', 'German', '92 (95)', '1.39%\\n', '12', 'Javanese', '82', '1.25%\\n', '13', 'Wu (inc. Shanghainese)', '80', '1.20%\\n', '14', 'Malay (inc. Indonesian and Malaysian)', '77', '1.16%\\n', '15', 'Telugu', '76', '1.15%\\n', '16', 'Vietnamese', '76', '1.14%\\n', '17', 'Korean', '76', '1.14%\\n', '18', 'French', '75', '1.12%\\n', '19', 'Marathi', '73', '1.10%\\n', '20', 'Tamil', '70', '1.06%\\n', '21', 'Urdu', '66', '0.99%\\n', '22', 'Turkish', '63', '0.95%\\n', '23', 'Italian', '59', '0.90%\\n', '24', 'Yue (inc. Cantonese)', '59', '0.89%\\n', '25', 'Thai', '56', '0.85%\\n', '26', 'Gujarati', '49', '0.74%\\n', '27', 'Jin', '48', '0.72%\\n', '28', 'Southern Min (inc. Hokkien and Teochew)', '47', '0.71%\\n', '29', 'Persian', '45', '0.68%\\n', '30', 'Polish', '40', '0.61%\\n', '31', 'Pashto', '39', '0.58%\\n', '32', 'Kannada', '38', '0.58%\\n', '33', 'Xiang', '38', '0.58%\\n', '34', 'Malayalam', '38', '0.57%\\n', '35', 'Sundanese', '38', '0.57%\\n', '36', 'Hausa', '34', '0.52%\\n', '37', 'Odia (Oriya)', '33', '0.50%\\n', '38', 'Burmese', '33', '0.50%\\n', '39', 'Hakka', '31', '0.46%\\n', '40', 'Ukrainian', '30', '0.46%\\n', '41', 'Bhojpuri', '29[b]', '0.43%\\n', '42', 'Tagalog (Filipino)', '28', '0.42%\\n', '43', 'Yoruba', '28', '0.42%\\n', '44', 'Maithili', '27[b]', '0.41%\\n', '45', 'Uzbek', '26', '0.39%\\n', '46', 'Sindhi', '26', '0.39%\\n', '47', 'Amharic', '25', '0.37%\\n', '48', 'Fula', '24', '0.37%\\n', '49', 'Romanian', '24', '0.37%\\n', '50', 'Oromo', '24', '0.36%\\n', '51', 'Igbo', '24', '0.36%\\n', '52', 'Azerbaijani', '23', '0.34%\\n', '53', 'Awadhi', '22[b]', '0.33%\\n', '54', 'Gan', '22', '0.33%\\n', '55', 'Cebuano (Visayan)', '21', '0.32%\\n', '56', 'Dutch', '21', '0.32%\\n', '57', 'Kurdish', '21', '0.31%\\n', '58', 'Serbo-Croatian', '19', '0.28%\\n', '59', 'Malagasy', '18', '0.28%\\n', '60', 'Saraiki', '17[c]', '0.26%\\n', '61', 'Nepali', '17', '0.25%\\n', '62', 'Sinhala', '16', '0.25%\\n', '63', 'Chittagonian', '16', '0.24%\\n', '64', 'Zhuang', '16', '0.24%\\n', '65', 'Khmer', '16', '0.24%\\n', '66', 'Turkmen', '16', '0.24%\\n', '67', 'Assamese', '15', '0.23%\\n', '68', 'Madurese', '15', '0.23%\\n', '69', 'Somali', '15', '0.22%\\n', '70', 'Marwari', '14[b]', '0.21%\\n', '71', 'Magahi', '14[b]', '0.21%\\n', '72', 'Haryanvi', '14[b]', '0.21%\\n', '73', 'Hungarian', '13', '0.19%\\n', '74', 'Chhattisgarhi', '12[b]', '0.19%\\n', '75', 'Greek', '12', '0.18%\\n', '76', 'Chewa', '12', '0.17%\\n', '77', 'Deccan', '11', '0.17%\\n', '78', 'Akan', '11', '0.17%\\n', '79', 'Kazakh', '11', '0.17%\\n', '80', 'Northern Min[disputed  – discuss]', '10.9', '0.16%\\n', '81', 'Sylheti', '10.7', '0.16%\\n', '82', 'Zulu', '10.4', '0.16%\\n', '83', 'Czech', '10.0', '0.15%\\n', '84', 'Kinyarwanda', '9.8', '0.15%\\n', '85', 'Dhundhari', '9.6[b]', '0.15%\\n', '86', 'Haitian Creole', '9.6', '0.15%\\n', '87', 'Eastern Min (inc. Fuzhou dialect)', '9.5', '0.14%\\n', '88', 'Ilocano', '9.1', '0.14%\\n', '89', 'Quechua', '8.9', '0.13%\\n', '90', 'Kirundi', '8.8', '0.13%\\n', '91', 'Swedish', '8.7', '0.13%\\n', '92', 'Hmong', '8.4', '0.13%\\n', '93', 'Shona', '8.3', '0.13%\\n', '94', 'Uyghur', '8.2', '0.12%\\n', '95', 'Hiligaynon/Ilonggo (Visayan)', '8.2', '0.12%\\n', '96', 'Mossi', '7.6', '0.11%\\n', '97', 'Xhosa', '7.6', '0.11%\\n', '98', 'Belarusian', '7.6[d]', '0.11%\\n', '99', 'Balochi', '7.6', '0.11%\\n', '100', 'Konkani', '7.4', '0.11%\\n', '', '5,610', '85%\\n']\n"
     ]
    }
   ],
   "source": [
    "nativespeaker_text = []\n",
    "nativespeaker = soup.find_all('td', class_=False, attrs={'class': 'wikitable sortable'})\n",
    "scraper_text(nativespeaker, nativespeaker_text)"
   ]
  },
  {
   "cell_type": "code",
   "execution_count": 122,
   "id": "28c1c4ca",
   "metadata": {},
   "outputs": [
    {
     "name": "stdout",
     "output_type": "stream",
     "text": [
      "['1', 'Mandarin Chinese', '918', '11.922%', 'Sino-Tibetan', 'Sinitic', '2', 'Spanish', '480', '5.994%', 'Indo-European', 'Romance', '3', 'English', '379', '4.922%', 'Indo-European', 'Germanic', '4', 'Hindi (sanskritised Hindustani)[9]', '341', '4.429%', 'Indo-European', 'Indo-Aryan', '5', 'Bengali', '300', '4.000%', 'Indo-European', 'Indo-Aryan', '6', 'Portuguese', '221', '2.870%', 'Indo-European', 'Romance', '7', 'Russian', '154', '2.000%', 'Indo-European', 'Balto-Slavic', '8', 'Japanese', '128', '1.662%', 'Japonic', 'Japanese', '9', 'Western Punjabi[10]', '92.7', '1.204%', 'Indo-European', 'Indo-Aryan', '10', 'Marathi', '83.1', '1.079%', 'Indo-European', 'Indo-Aryan', '11', 'Telugu', '82.0', '1.065%', 'Dravidian', 'South-Central', '12', 'Wu Chinese', '81.4', '1.057%', 'Sino-Tibetan', 'Sinitic', '13', 'Turkish', '79.4', '1.031%', 'Turkic', 'Oghuz', '14', 'Korean', '77.3', '1.004%', 'Koreanic', 'language isolate', '15', 'French', '77.2', '1.003%', 'Indo-European', 'Romance', '16', 'German (only Standard German)', '76.1', '0.988%', 'Indo-European', 'Germanic', '17', 'Vietnamese', '76.0', '0.987%', 'Austroasiatic', 'Vietic', '18', 'Tamil', '75.0', '0.974%', 'Dravidian', 'South', '19', 'Yue Chinese', '73.1', '0.949%', 'Sino-Tibetan', 'Sinitic', '20', 'Urdu (persianised Hindustani)[9]', '68.6', '0.891%', 'Indo-European', 'Indo-Aryan', '21', 'Javanese', '68.3', '0.887%', 'Austronesian', 'Malayo-Polynesian', '22', 'Italian', '64.8', '0.842%', 'Indo-European', 'Romance', '23', 'Egyptian Arabic', '64.6', '0.839%', 'Afroasiatic', 'Semitic', '24', 'Gujarati', '56.4', '0.732%', 'Indo-European', 'Indo-Aryan', '25', 'Iranian Persian', '52.8', '0.686%', 'Indo-European', 'Iranian', '26', 'Bhojpuri', '52.2', '0.678%', 'Indo-European', 'Indo-Aryan', '27', 'Southern Min', '50.1', '0.651%', 'Sino-Tibetan', 'Sinitic', '28', 'Hakka', '48.2', '0.626%', 'Sino-Tibetan', 'Sinitic', '29', 'Jin Chinese', '46.9', '0.609%', 'Sino-Tibetan', 'Sinitic', '30', 'Hausa', '43.9', '0.570%', 'Afroasiatic', 'Chadic', '31', 'Kannada', '43.6', '0.566%', 'Dravidian', 'South', '32', 'Indonesian', '43.4', '0.564%', 'Austronesian', 'Malayo-Polynesian', '33', 'Polish', '39.7', '0.516%', 'Indo-European', 'Balto-Slavic', '34', 'Yoruba', '37.8', '0.491%', 'Niger–Congo', 'Volta–Niger', '35', 'Xiang Chinese', '37.3', '0.484%', 'Sino-Tibetan', 'Sinitic', '36', 'Malayalam', '37.1', '0.482%', 'Dravidian', 'South', '37', 'Odia', '34.5', '0.448%', 'Indo-European', 'Indo-Aryan', '38', 'Maithili', '33.9', '0.440%', 'Indo-European', 'Indo-Aryan', '39', 'Burmese', '32.9', '0.427%', 'Sino-Tibetan', 'Lolo-Burmese', '40', 'Eastern Punjabi[10]', '32.6', '0.423%', 'Indo-European', 'Indo-Aryan', '41', 'Sunda', '32.4', '0.421%', 'Austronesian', 'Malayo-Polynesian', '42', 'Sudanese Arabic', '31.9', '0.414%', 'Afroasiatic', 'Semitic', '43', 'Algerian Arabic', '29.4', '0.382%', 'Afroasiatic', 'Semitic', '44', 'Moroccan Arabic', '27.5', '0.357%', 'Afroasiatic', 'Semitic', '45', 'Ukrainian', '27.3', '0.355%', 'Indo-European', 'Balto-Slavic', '46', 'Igbo', '27.0', '0.351%', 'Niger–Congo', 'Volta–Niger', '47', 'Northern Uzbek', '25.1', '0.326%', 'Turkic', 'Karluk', '48', 'Sindhi', '24.6', '0.319%', 'Indo-European', 'Indo-Aryan', '49', 'North Levantine Arabic', '24.6', '0.319%', 'Afroasiatic', 'Semitic', '50', 'Romanian', '24.3', '0.316%', 'Indo-European', 'Romance', '51', 'Tagalog', '23.6', '0.306%', 'Austronesian', 'Malayo-Polynesian', '52', 'Dutch', '23.1', '0.300%', 'Indo-European', 'Germanic', '53', 'Saʽidi Arabic', '22.4', '0.291%', 'Afroasiatic', 'Semitic', '54', 'Gan Chinese', '22.1', '0.287%', 'Sino-Tibetan', 'Sinitic', '55', 'Amharic', '21.9', '0.284%', 'Afroasiatic', 'Semitic', '56', 'Northern Pashto', '20.9', '0.271%', 'Indo-European', 'Iranian', '57', 'Magahi', '20.7', '0.269%', 'Indo-European', 'Indo-Aryan', '58', 'Thai', '20.7', '0.269%', 'Kra–Dai', 'Tai', '59', 'Saraiki', '20.0', '0.260%', 'Indo-European', 'Indo-Aryan', '60', 'Khmer', '16.6', '0.216%', 'Austroasiatic', 'Khmer', '61', 'Chhattisgarhi', '16.3', '0.212%', 'Indo-European', 'Indo-Aryan', '62', 'Somali', '16.2', '0.210%', 'Afroasiatic', 'Cushitic', '63', 'Malaysian (Malaysian Malay)', '16.1', '0.209%', 'Austronesian', 'Malayo-Polynesian', '64', 'Cebuano', '15.9', '0.206%', 'Austronesian', 'Malayo-Polynesian', '65', 'Nepali', '15.8', '0.205%', 'Indo-European', 'Indo-Aryan', '66', 'Mesopotamian Arabic', '15.7', '0.204%', 'Afroasiatic', 'Semitic', '67', 'Assamese', '15.3', '0.199%', 'Indo-European', 'Indo-Aryan', '68', 'Sinhalese', '15.3', '0.199%', 'Indo-European', 'Indo-Aryan', '69', 'Northern Kurdish', '14.6', '0.190%', 'Indo-European', 'Iranian', '70', 'Hejazi Arabic', '14.5', '0.188%', 'Afroasiatic', 'Semitic', '71', 'Nigerian Fulfulde', '14.5', '0.188%', 'Niger–Congo', 'Senegambian', '72', 'Bavarian', '14.1', '0.183%', 'Indo-European', 'Germanic', '73', 'South Azerbaijani', '13.8', '0.179%', 'Turkic', 'Oghuz', '74', 'Greek', '13.1', '0.170%', 'Indo-European', 'Hellenic', '75', 'Chittagonian', '13.0', '0.169%', 'Indo-European', 'Indo-Aryan', '76', 'Kazakh', '12.9', '0.168%', 'Turkic', 'Kipchak', '77', 'Deccan', '12.8', '0.166%', 'Indo-European', 'Indo-Aryan', '78', 'Hungarian', '12.6', '0.164%', 'Uralic', 'Finno-Ugric', '79', 'Kinyarwanda', '12.1', '0.157%', 'Niger–Congo', 'Bantu', '80', 'Zulu', '12.1', '0.157%', 'Niger–Congo', 'Bantu', '81', 'South Levantine Arabic', '11.6', '0.151%', 'Afroasiatic', 'Semitic', '82', 'Tunisian Arabic', '11.6', '0.151%', 'Afroasiatic', 'Semitic', '83', 'Sanaani Spoken Arabic', '11.4', '0.148%', 'Afroasiatic', 'Semitic', '84', 'Northern Min', '11.0', '0.143%', 'Sino-Tibetan', 'Sinitic', '85', 'Southern Pashto', '10.9', '0.142%', 'Indo-European', 'Iranian', '86', 'Rundi', '10.8', '0.140%', 'Niger–Congo', 'Bantu', '87', 'Czech', '10.7', '0.139%', 'Indo-European', 'Balto-Slavic', '88', 'Taʽizzi-Adeni Arabic', '10.5', '0.136%', 'Afroasiatic', 'Semitic', '89', 'Uyghur', '10.4', '0.135%', 'Turkic', 'Karluk', '90', 'Eastern Min', '10.3', '0.134%', 'Sino-Tibetan', 'Sinitic', '91', 'Sylheti', '10.3', '0.134%', 'Indo-European', 'Indo-Aryan', '1', 'Mandarin (entire branch)', '935 (955)', '14.1%', '2', 'Spanish', '390 (405)', '5.85%', '3', 'English', '365 (360)', '5.52%', '4', 'Hindi[a]', '295 (310)', '4.46%', '5', 'Arabic', '280 (295)', '4.23%', '6', 'Portuguese', '205 (215)', '3.08%', '7', 'Bengali', '200 (205)', '3.05%', '8', 'Russian', '160 (155)', '2.42%', '9', 'Japanese', '125 (125)', '1.92%', '10', 'Punjabi', '95 (100)', '1.44%', '11', 'German', '92 (95)', '1.39%', '12', 'Javanese', '82', '1.25%', '13', 'Wu (inc. Shanghainese)', '80', '1.20%', '14', 'Malay (inc. Indonesian and Malaysian)', '77', '1.16%', '15', 'Telugu', '76', '1.15%', '16', 'Vietnamese', '76', '1.14%', '17', 'Korean', '76', '1.14%', '18', 'French', '75', '1.12%', '19', 'Marathi', '73', '1.10%', '20', 'Tamil', '70', '1.06%', '21', 'Urdu', '66', '0.99%', '22', 'Turkish', '63', '0.95%', '23', 'Italian', '59', '0.90%', '24', 'Yue (inc. Cantonese)', '59', '0.89%', '25', 'Thai', '56', '0.85%', '26', 'Gujarati', '49', '0.74%', '27', 'Jin', '48', '0.72%', '28', 'Southern Min (inc. Hokkien and Teochew)', '47', '0.71%', '29', 'Persian', '45', '0.68%', '30', 'Polish', '40', '0.61%', '31', 'Pashto', '39', '0.58%', '32', 'Kannada', '38', '0.58%', '33', 'Xiang', '38', '0.58%', '34', 'Malayalam', '38', '0.57%', '35', 'Sundanese', '38', '0.57%', '36', 'Hausa', '34', '0.52%', '37', 'Odia (Oriya)', '33', '0.50%', '38', 'Burmese', '33', '0.50%', '39', 'Hakka', '31', '0.46%', '40', 'Ukrainian', '30', '0.46%', '41', 'Bhojpuri', '29[b]', '0.43%', '42', 'Tagalog (Filipino)', '28', '0.42%', '43', 'Yoruba', '28', '0.42%', '44', 'Maithili', '27[b]', '0.41%', '45', 'Uzbek', '26', '0.39%', '46', 'Sindhi', '26', '0.39%', '47', 'Amharic', '25', '0.37%', '48', 'Fula', '24', '0.37%', '49', 'Romanian', '24', '0.37%', '50', 'Oromo', '24', '0.36%', '51', 'Igbo', '24', '0.36%', '52', 'Azerbaijani', '23', '0.34%', '53', 'Awadhi', '22[b]', '0.33%', '54', 'Gan', '22', '0.33%', '55', 'Cebuano (Visayan)', '21', '0.32%', '56', 'Dutch', '21', '0.32%', '57', 'Kurdish', '21', '0.31%', '58', 'Serbo-Croatian', '19', '0.28%', '59', 'Malagasy', '18', '0.28%', '60', 'Saraiki', '17[c]', '0.26%', '61', 'Nepali', '17', '0.25%', '62', 'Sinhala', '16', '0.25%', '63', 'Chittagonian', '16', '0.24%', '64', 'Zhuang', '16', '0.24%', '65', 'Khmer', '16', '0.24%', '66', 'Turkmen', '16', '0.24%', '67', 'Assamese', '15', '0.23%', '68', 'Madurese', '15', '0.23%', '69', 'Somali', '15', '0.22%', '70', 'Marwari', '14[b]', '0.21%', '71', 'Magahi', '14[b]', '0.21%', '72', 'Haryanvi', '14[b]', '0.21%', '73', 'Hungarian', '13', '0.19%', '74', 'Chhattisgarhi', '12[b]', '0.19%', '75', 'Greek', '12', '0.18%', '76', 'Chewa', '12', '0.17%', '77', 'Deccan', '11', '0.17%', '78', 'Akan', '11', '0.17%', '79', 'Kazakh', '11', '0.17%', '80', 'Northern Min[disputed  – discuss]', '10.9', '0.16%', '81', 'Sylheti', '10.7', '0.16%', '82', 'Zulu', '10.4', '0.16%', '83', 'Czech', '10.0', '0.15%', '84', 'Kinyarwanda', '9.8', '0.15%', '85', 'Dhundhari', '9.6[b]', '0.15%', '86', 'Haitian Creole', '9.6', '0.15%', '87', 'Eastern Min (inc. Fuzhou dialect)', '9.5', '0.14%', '88', 'Ilocano', '9.1', '0.14%', '89', 'Quechua', '8.9', '0.13%', '90', 'Kirundi', '8.8', '0.13%', '91', 'Swedish', '8.7', '0.13%', '92', 'Hmong', '8.4', '0.13%', '93', 'Shona', '8.3', '0.13%', '94', 'Uyghur', '8.2', '0.12%', '95', 'Hiligaynon/Ilonggo (Visayan)', '8.2', '0.12%', '96', 'Mossi', '7.6', '0.11%', '97', 'Xhosa', '7.6', '0.11%', '98', 'Belarusian', '7.6[d]', '0.11%', '99', 'Balochi', '7.6', '0.11%', '100', 'Konkani', '7.4', '0.11%', '', '5,610', '85%']\n"
     ]
    }
   ],
   "source": [
    "nativespeaker_text_new =[]\n",
    "for i in nativespeaker_text: \n",
    "    nativespeaker_text_new.append(i.replace('\\n', '').replace('+',''))\n",
    "print(nativespeaker_text_new)"
   ]
  },
  {
   "cell_type": "code",
   "execution_count": 124,
   "id": "63513b7e",
   "metadata": {},
   "outputs": [
    {
     "name": "stdout",
     "output_type": "stream",
     "text": [
      "['Mandarin Chinese', 'Spanish', 'English', 'Hindi (sanskritised Hindustani)[9]', 'Bengali', 'Portuguese', 'Russian', 'Japanese', 'Western Punjabi[10]', 'Marathi']\n"
     ]
    }
   ],
   "source": [
    "top_languanges = []\n",
    "\n",
    "for i in range(1,len(nativespeaker_text_new), 6):\n",
    "    top_languanges.append(nativespeaker_text_new[i])\n",
    "    if len(top_languanges) == 10:\n",
    "        break\n",
    "print(top_languanges)"
   ]
  },
  {
   "cell_type": "code",
   "execution_count": 125,
   "id": "c8e1174f",
   "metadata": {},
   "outputs": [
    {
     "name": "stdout",
     "output_type": "stream",
     "text": [
      "['918', '480', '379', '341', '300', '221', '154', '128', '92.7', '83.1']\n"
     ]
    }
   ],
   "source": [
    "top_numbers = []\n",
    "\n",
    "for i in range(2,len(nativespeaker_text_new), 6):\n",
    "    top_numbers.append(nativespeaker_text_new[i])\n",
    "    if len(top_numbers) == 10:\n",
    "        break\n",
    "print(top_numbers)"
   ]
  },
  {
   "cell_type": "code",
   "execution_count": 128,
   "id": "646b2666",
   "metadata": {},
   "outputs": [
    {
     "data": {
      "text/html": [
       "<div>\n",
       "<style scoped>\n",
       "    .dataframe tbody tr th:only-of-type {\n",
       "        vertical-align: middle;\n",
       "    }\n",
       "\n",
       "    .dataframe tbody tr th {\n",
       "        vertical-align: top;\n",
       "    }\n",
       "\n",
       "    .dataframe thead th {\n",
       "        text-align: right;\n",
       "    }\n",
       "</style>\n",
       "<table border=\"1\" class=\"dataframe\">\n",
       "  <thead>\n",
       "    <tr style=\"text-align: right;\">\n",
       "      <th></th>\n",
       "      <th>language</th>\n",
       "      <th>speakers (millions)</th>\n",
       "    </tr>\n",
       "  </thead>\n",
       "  <tbody>\n",
       "    <tr>\n",
       "      <th>0</th>\n",
       "      <td>Mandarin Chinese</td>\n",
       "      <td>918</td>\n",
       "    </tr>\n",
       "    <tr>\n",
       "      <th>1</th>\n",
       "      <td>Spanish</td>\n",
       "      <td>480</td>\n",
       "    </tr>\n",
       "    <tr>\n",
       "      <th>2</th>\n",
       "      <td>English</td>\n",
       "      <td>379</td>\n",
       "    </tr>\n",
       "    <tr>\n",
       "      <th>3</th>\n",
       "      <td>Hindi (sanskritised Hindustani)[9]</td>\n",
       "      <td>341</td>\n",
       "    </tr>\n",
       "    <tr>\n",
       "      <th>4</th>\n",
       "      <td>Bengali</td>\n",
       "      <td>300</td>\n",
       "    </tr>\n",
       "    <tr>\n",
       "      <th>5</th>\n",
       "      <td>Portuguese</td>\n",
       "      <td>221</td>\n",
       "    </tr>\n",
       "    <tr>\n",
       "      <th>6</th>\n",
       "      <td>Russian</td>\n",
       "      <td>154</td>\n",
       "    </tr>\n",
       "    <tr>\n",
       "      <th>7</th>\n",
       "      <td>Japanese</td>\n",
       "      <td>128</td>\n",
       "    </tr>\n",
       "    <tr>\n",
       "      <th>8</th>\n",
       "      <td>Western Punjabi[10]</td>\n",
       "      <td>92.7</td>\n",
       "    </tr>\n",
       "    <tr>\n",
       "      <th>9</th>\n",
       "      <td>Marathi</td>\n",
       "      <td>83.1</td>\n",
       "    </tr>\n",
       "  </tbody>\n",
       "</table>\n",
       "</div>"
      ],
      "text/plain": [
       "                             language speakers (millions)\n",
       "0                    Mandarin Chinese                 918\n",
       "1                             Spanish                 480\n",
       "2                             English                 379\n",
       "3  Hindi (sanskritised Hindustani)[9]                 341\n",
       "4                             Bengali                 300\n",
       "5                          Portuguese                 221\n",
       "6                             Russian                 154\n",
       "7                            Japanese                 128\n",
       "8                 Western Punjabi[10]                92.7\n",
       "9                             Marathi                83.1"
      ]
     },
     "execution_count": 128,
     "metadata": {},
     "output_type": "execute_result"
    }
   ],
   "source": [
    "top_10_languages = pd.DataFrame(\n",
    "    {\"language\": top_languanges,\n",
    "     \"speakers (millions)\": top_numbers}\n",
    ")\n",
    "top_10_languages"
   ]
  },
  {
   "cell_type": "code",
   "execution_count": null,
   "id": "3886c731",
   "metadata": {},
   "outputs": [],
   "source": []
  }
 ],
 "metadata": {
  "kernelspec": {
   "display_name": "Python 3",
   "language": "python",
   "name": "python3"
  },
  "language_info": {
   "codemirror_mode": {
    "name": "ipython",
    "version": 3
   },
   "file_extension": ".py",
   "mimetype": "text/x-python",
   "name": "python",
   "nbconvert_exporter": "python",
   "pygments_lexer": "ipython3",
   "version": "3.8.8"
  },
  "toc": {
   "base_numbering": 1,
   "nav_menu": {},
   "number_sections": true,
   "sideBar": true,
   "skip_h1_title": false,
   "title_cell": "Table of Contents",
   "title_sidebar": "Contents",
   "toc_cell": true,
   "toc_position": {},
   "toc_section_display": true,
   "toc_window_display": false
  },
  "varInspector": {
   "cols": {
    "lenName": 16,
    "lenType": 16,
    "lenVar": 40
   },
   "kernels_config": {
    "python": {
     "delete_cmd_postfix": "",
     "delete_cmd_prefix": "del ",
     "library": "var_list.py",
     "varRefreshCmd": "print(var_dic_list())"
    },
    "r": {
     "delete_cmd_postfix": ") ",
     "delete_cmd_prefix": "rm(",
     "library": "var_list.r",
     "varRefreshCmd": "cat(var_dic_list()) "
    }
   },
   "types_to_exclude": [
    "module",
    "function",
    "builtin_function_or_method",
    "instance",
    "_Feature"
   ],
   "window_display": false
  }
 },
 "nbformat": 4,
 "nbformat_minor": 5
}
