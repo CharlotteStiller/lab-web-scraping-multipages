{
 "cells": [
  {
   "cell_type": "markdown",
   "id": "adequate-aurora",
   "metadata": {
    "toc": true
   },
   "source": [
    "<h1>Table of Contents<span class=\"tocSkip\"></span></h1>\n",
    "<div class=\"toc\"><ul class=\"toc-item\"><li><span><a href=\"#Import-libraries\" data-toc-modified-id=\"Import-libraries-1\"><span class=\"toc-item-num\">1&nbsp;&nbsp;</span>Import libraries</a></span></li><li><span><a href=\"#Store-the-hot-100-songs-list-from-billboard-url-in-a-variable\" data-toc-modified-id=\"Store-the-hot-100-songs-list-from-billboard-url-in-a-variable-2\"><span class=\"toc-item-num\">2&nbsp;&nbsp;</span>Store the hot-100 songs list from billboard url in a variable</a></span></li><li><span><a href=\"#Download-html-with-a-get-request\" data-toc-modified-id=\"Download-html-with-a-get-request-3\"><span class=\"toc-item-num\">3&nbsp;&nbsp;</span>Download html with a get request</a></span></li><li><span><a href=\"#Parse-html-(create-the-'soup')\" data-toc-modified-id=\"Parse-html-(create-the-'soup')-4\"><span class=\"toc-item-num\">4&nbsp;&nbsp;</span>Parse html (create the 'soup')</a></span></li><li><span><a href=\"#Retrieve/extract-the-desired-info\" data-toc-modified-id=\"Retrieve/extract-the-desired-info-5\"><span class=\"toc-item-num\">5&nbsp;&nbsp;</span>Retrieve/extract the desired info</a></span></li><li><span><a href=\"#Get-the-text\" data-toc-modified-id=\"Get-the-text-6\"><span class=\"toc-item-num\">6&nbsp;&nbsp;</span>Get the text</a></span></li><li><span><a href=\"#Build-a-dataframe\" data-toc-modified-id=\"Build-a-dataframe-7\"><span class=\"toc-item-num\">7&nbsp;&nbsp;</span>Build a dataframe</a></span></li><li><span><a href=\"#Extra-questions\" data-toc-modified-id=\"Extra-questions-8\"><span class=\"toc-item-num\">8&nbsp;&nbsp;</span>Extra questions</a></span></li></ul></div>"
   ]
  },
  {
   "cell_type": "markdown",
   "id": "together-terminology",
   "metadata": {},
   "source": [
    "## Import libraries"
   ]
  },
  {
   "cell_type": "code",
   "execution_count": 1,
   "id": "little-prophet",
   "metadata": {},
   "outputs": [],
   "source": [
    "from bs4 import BeautifulSoup\n",
    "import requests\n",
    "import pandas as pd"
   ]
  },
  {
   "cell_type": "markdown",
   "id": "political-wright",
   "metadata": {},
   "source": [
    "## Store the hot-100 songs list from billboard url in a variable"
   ]
  },
  {
   "cell_type": "code",
   "execution_count": 2,
   "id": "promotional-algorithm",
   "metadata": {},
   "outputs": [],
   "source": [
    "url = \"https://www.billboard.com/charts/hot-100\""
   ]
  },
  {
   "cell_type": "markdown",
   "id": "indian-fossil",
   "metadata": {},
   "source": [
    "## Download html with a get request"
   ]
  },
  {
   "cell_type": "code",
   "execution_count": 4,
   "id": "civic-broad",
   "metadata": {},
   "outputs": [
    {
     "name": "stdout",
     "output_type": "stream",
     "text": [
      "Billboard: 200\n"
     ]
    }
   ],
   "source": [
    "import requests\n",
    "\n",
    "billboard = requests.get(\"https://www.billboard.com/charts/hot-100\")\n",
    "print(\"Billboard:\", billboard.status_code)\n",
    "\n",
    "# 200 status code means OK!"
   ]
  },
  {
   "cell_type": "markdown",
   "id": "arbitrary-patrick",
   "metadata": {},
   "source": [
    "## Parse html (create the 'soup')"
   ]
  },
  {
   "cell_type": "code",
   "execution_count": 6,
   "id": "revised-digest",
   "metadata": {},
   "outputs": [],
   "source": [
    "soup = BeautifulSoup(billboard.content, 'html.parser')"
   ]
  },
  {
   "cell_type": "markdown",
   "id": "damaged-watts",
   "metadata": {},
   "source": [
    "## Retrieve/extract the desired info"
   ]
  },
  {
   "cell_type": "code",
   "execution_count": 61,
   "id": "falling-chambers",
   "metadata": {},
   "outputs": [],
   "source": [
    "# song titles\n",
    "song_titles = soup.find_all(\"span\", class_=\"chart-element__information__song text--truncate color--primary\")\n",
    "\n",
    "# artists\n",
    "song_artists = soup.find_all(\"span\", class_=\"chart-element__information__artist text--truncate color--secondary\")\n",
    "\n",
    "# last week\n",
    "song_last_week = soup.find_all(\"span\", class_= \"chart-element__meta text--center color--secondary text--last\")\n",
    "\n",
    "# peak rank\n",
    "song_peak = soup.find_all(\"span\", class_= \"chart-element__meta text--center color--secondary text--peak\")\n",
    "\n",
    "# weeks on chart\n",
    "song_total_weeks = soup.find_all(\"span\", class_= \"chart-element__meta text--center color--secondary text--week\")"
   ]
  },
  {
   "cell_type": "markdown",
   "id": "employed-chemistry",
   "metadata": {},
   "source": [
    "## Get the text"
   ]
  },
  {
   "cell_type": "code",
   "execution_count": null,
   "id": "ddb7432c",
   "metadata": {},
   "outputs": [],
   "source": [
    "def scraper_text(html, text_list): \n",
    "    for i in html:\n",
    "        text_list.append(i.get_text())\n",
    "    print(text_list)"
   ]
  },
  {
   "cell_type": "code",
   "execution_count": 68,
   "id": "amateur-protocol",
   "metadata": {},
   "outputs": [
    {
     "name": "stdout",
     "output_type": "stream",
     "text": [
      "['My Universe', 'Stay', 'Industry Baby', 'Way 2 Sexy', 'Fancy Like', 'Bad Habits', 'Good 4 U', 'Kiss Me More', 'Knife Talk', 'Levitating', 'Essence', 'Save Your Tears', 'Montero (Call Me By Your Name)', 'Shivers', 'Heat Waves', 'Need To Know', 'Girls Want Girls', 'You Right', \"Beggin'\", 'Wockesha', \"If I Didn't Love You\", 'Take My Breath', 'Fair Trade', 'Thats What I Want', 'Traitor', 'Cold Beer Calling My Name', 'Chasing After You', 'Bad Morning', 'Pepas', 'Deja Vu', 'Happier Than Ever', 'Your Heart', 'Leave The Door Open', 'Hurricane', 'A-O-K', 'Butter', 'On My Side', 'Too Easy', 'Leave Before You Love Me', 'No Where', 'Peaches', 'Family Ties', \"Memory I Don't Mess With\", 'Late At Night', 'Things A Man Oughta Know', 'Cold Heart (PNAU Remix)', 'Meet Me At Our Spot', 'Life Support', 'I Was On A Boat That Day', 'Love Nwantiti (Ah Ah Ah)', 'Wild Side', 'Whole Lotta Money', 'Hold Me Down', 'Champagne Poetry', 'Buy Dirt', 'Have Mercy', 'Love Again', 'Nevada', '50 Shots', 'No Friends In The Industry', 'Smoke Strong', 'Break Or Make Me', 'You Time', 'Gyalis', 'Cold As You', 'My Boy', 'Sincerely', \"Drunk (And I Don't Wanna Go Home)\", \"I Can't Take It Back\", 'Waves', 'Sharing Locations', 'In The Bible', 'Thot Shit', 'Rumors', 'Woman', \"Thinking 'Bout You\", 'Baddest', '2055', 'Memory', 'Forgiato', 'You Should Probably Leave', \"Drinkin' Beer. Talkin' God. Amen.\", 'Rich Shit', 'TSU', 'Volvi', 'Todo de Ti', 'Love All', 'N 2 Deep', 'Yonaguni', 'Knowing You', 'For Tonight', 'Baddest Thing', 'Summer Of Love', 'Get Into It (Yuh)', 'Same Boat', 'Pipe Down', \"Papi's Home\", 'Chosen', 'Toxic Punk', 'Moon']\n"
     ]
    }
   ],
   "source": [
    "song_titles_text = []\n",
    "scraper_text(song_titles, song_titles_text)"
   ]
  },
  {
   "cell_type": "code",
   "execution_count": 67,
   "id": "7ba0f4b0",
   "metadata": {},
   "outputs": [
    {
     "name": "stdout",
     "output_type": "stream",
     "text": [
      "['Coldplay x BTS', 'The Kid LAROI & Justin Bieber', 'Lil Nas X & Jack Harlow', 'Drake Featuring Future & Young Thug', 'Walker Hayes', 'Ed Sheeran', 'Olivia Rodrigo', 'Doja Cat Featuring SZA', 'Drake Featuring 21 Savage & Project Pat', 'Dua Lipa', 'Wizkid Featuring Justin Bieber & Tems', 'The Weeknd & Ariana Grande', 'Lil Nas X', 'Ed Sheeran', 'Glass Animals', 'Doja Cat', 'Drake Featuring Lil Baby', 'Doja Cat & The Weeknd', 'Maneskin', 'Moneybagg Yo', 'Jason Aldean & Carrie Underwood', 'The Weeknd', 'Drake Featuring Travis Scott', 'Lil Nas X', 'Olivia Rodrigo', 'Jameson Rodgers Featuring Luke Combs', 'Ryan Hurd With Maren Morris', 'YoungBoy Never Broke Again', 'Farruko', 'Olivia Rodrigo', 'Billie Eilish', 'Joyner Lucas & J. Cole', 'Silk Sonic (Bruno Mars & Anderson .Paak)', 'Kanye West', 'Tai Verdes', 'BTS', 'YoungBoy Never Broke Again', 'Gunna & Future', 'Marshmello X Jonas Brothers', 'YoungBoy Never Broke Again', 'Justin Bieber Featuring Daniel Caesar & Giveon', 'Baby Keem & Kendrick Lamar', 'Lee Brice', 'Roddy Ricch', 'Lainey Wilson', 'Elton John & Dua Lipa', 'THE ANXIETY: WILLOW & Tyler Cole', 'YoungBoy Never Broke Again', 'Old Dominion', 'CKay', 'Normani Featuring Cardi B', 'BIA Featuring Nicki Minaj', 'YoungBoy Never Broke Again', 'Drake', 'Jordan Davis Featuring Luke Bryan', 'Chloe', 'Dua Lipa', 'YoungBoy Never Broke Again', 'YoungBoy Never Broke Again', 'Drake', 'YoungBoy Never Broke Again', 'YoungBoy Never Broke Again', 'Scotty McCreery', 'Capella Grey', 'Luke Combs', 'Elvie Shane', 'YoungBoy Never Broke Again', 'Elle King & Miranda Lambert', 'YoungBoy Never Broke Again', 'Luke Bryan', 'Meek Mill Featuring Lil Baby & Lil Durk', 'Drake Featuring Lil Durk & Giveon', 'Megan Thee Stallion', 'Lizzo Featuring Cardi B', 'Doja Cat', 'Dustin Lynch Featuring Lauren Alaina Or MacKenzie Porter', 'Yung Bleu, Chris Brown & 2 Chainz', 'Sleepy Hallow', 'Kane Brown X blackbear', 'YoungBoy Never Broke Again', 'Chris Stapleton', 'Chase Rice Featuring Florida Georgia Line', 'YoungBoy Never Broke Again', 'Drake', 'Aventura x Bad Bunny', 'Rauw Alejandro', 'Drake Featuring JAY-Z', 'Drake Featuring Future', 'Bad Bunny', 'Kenny Chesney', 'Giveon', 'YoungBoy Never Broke Again', 'Shawn Mendes & Tainy', 'Doja Cat', 'Zac Brown Band', 'Drake', 'Drake', 'Blxst & Tyga Featuring Ty Dolla $ign', 'YoungBoy Never Broke Again', 'Kanye West']\n"
     ]
    }
   ],
   "source": [
    "song_artists_text = []\n",
    "scraper_text(song_artists, song_artists_text)"
   ]
  },
  {
   "cell_type": "code",
   "execution_count": 65,
   "id": "76cbea5f",
   "metadata": {},
   "outputs": [
    {
     "name": "stdout",
     "output_type": "stream",
     "text": [
      "['-', '1', '2', '3', '5', '4', '6', '7', '8', '11', '14', '12', '9', '17', '16', '18', '13', '19', '20', '35', '22', '21', '15', '10', '25', '29', '32', '-', '27', '23', '28', '-', '33', '31', '39', '24', '71', '-', '26', '-', '36', '38', '54', '45', '34', '74', '44', '79', '53', '80', '52', '58', '-', '30', '55', '56', '51', '-', '-', '40', '-', '-', '50', '64', '69', '67', '-', '70', '-', '60', '61', '43', '49', '46', '62', '81', '78', '65', '73', '-', '83', '77', '-', '48', '75', '82', '57', '59', '85', '96', '-', '-', '87', '84', '98', '68', '66', '-', '-', '76']\n"
     ]
    }
   ],
   "source": [
    "song_last_week_text = []\n",
    "scraper_text(song_last_week, song_last_week_text)"
   ]
  },
  {
   "cell_type": "code",
   "execution_count": 66,
   "id": "bf3467ac",
   "metadata": {},
   "outputs": [
    {
     "name": "stdout",
     "output_type": "stream",
     "text": [
      "['1', '1', '2', '1', '5', '2', '1', '3', '4', '2', '11', '1', '1', '14', '15', '14', '2', '11', '19', '20', '15', '6', '3', '10', '9', '26', '27', '28', '26', '3', '11', '32', '1', '6', '35', '1', '37', '38', '19', '40', '1', '18', '43', '20', '32', '46', '44', '48', '49', '50', '14', '16', '53', '4', '51', '28', '51', '58', '59', '11', '61', '62', '50', '64', '65', '66', '67', '53', '69', '24', '22', '7', '16', '4', '62', '76', '77', '51', '50', '80', '63', '24', '83', '9', '22', '32', '10', '12', '10', '87', '91', '92', '48', '68', '95', '14', '8', '98', '99', '17']\n"
     ]
    }
   ],
   "source": [
    "song_peak_text = []\n",
    "scraper_text(song_peak, song_peak_text)"
   ]
  },
  {
   "cell_type": "code",
   "execution_count": 69,
   "id": "0b8f86c4",
   "metadata": {},
   "outputs": [
    {
     "name": "stdout",
     "output_type": "stream",
     "text": [
      "['1', '12', '10', '4', '15', '14', '20', '25', '4', '52', '13', '42', '27', '3', '37', '16', '4', '14', '14', '23', '10', '8', '4', '2', '19', '13', '22', '1', '10', '26', '9', '1', '30', '5', '13', '19', '2', '1', '19', '1', '28', '5', '10', '17', '20', '4', '3', '3', '13', '2', '11', '12', '1', '4', '8', '3', '11', '1', '1', '4', '1', '1', '9', '9', '9', '14', '1', '23', '1', '15', '5', '4', '16', '7', '9', '7', '9', '11', '12', '1', '13', '18', '1', '4', '9', '18', '4', '4', '17', '7', '1', '1', '6', '8', '2', '4', '4', '1', '1', '5']\n"
     ]
    }
   ],
   "source": [
    "song_total_weeks_text = []\n",
    "scraper_text(song_total_weeks, song_total_weeks_text)"
   ]
  },
  {
   "cell_type": "markdown",
   "id": "every-degree",
   "metadata": {},
   "source": [
    "## Build a dataframe"
   ]
  },
  {
   "cell_type": "code",
   "execution_count": 70,
   "id": "external-instrumentation",
   "metadata": {},
   "outputs": [],
   "source": [
    "top_100 = pd.DataFrame(\n",
    "    {\"title\": song_titles_text,\n",
    "     \"artist\": song_artists_text,\n",
    "     \"last_week_rank\": song_last_week_text,\n",
    "     \"peak_position\": song_peak_text,\n",
    "     \"weeks_on_chart\": song_total_weeks_text}\n",
    ")"
   ]
  },
  {
   "cell_type": "code",
   "execution_count": 72,
   "id": "ba2fd9cd",
   "metadata": {},
   "outputs": [
    {
     "data": {
      "text/html": [
       "<div>\n",
       "<style scoped>\n",
       "    .dataframe tbody tr th:only-of-type {\n",
       "        vertical-align: middle;\n",
       "    }\n",
       "\n",
       "    .dataframe tbody tr th {\n",
       "        vertical-align: top;\n",
       "    }\n",
       "\n",
       "    .dataframe thead th {\n",
       "        text-align: right;\n",
       "    }\n",
       "</style>\n",
       "<table border=\"1\" class=\"dataframe\">\n",
       "  <thead>\n",
       "    <tr style=\"text-align: right;\">\n",
       "      <th></th>\n",
       "      <th>title</th>\n",
       "      <th>artist</th>\n",
       "      <th>last_week_rank</th>\n",
       "      <th>peak_position</th>\n",
       "      <th>weeks_on_chart</th>\n",
       "    </tr>\n",
       "  </thead>\n",
       "  <tbody>\n",
       "    <tr>\n",
       "      <th>0</th>\n",
       "      <td>My Universe</td>\n",
       "      <td>Coldplay x BTS</td>\n",
       "      <td>-</td>\n",
       "      <td>1</td>\n",
       "      <td>1</td>\n",
       "    </tr>\n",
       "    <tr>\n",
       "      <th>1</th>\n",
       "      <td>Stay</td>\n",
       "      <td>The Kid LAROI &amp; Justin Bieber</td>\n",
       "      <td>1</td>\n",
       "      <td>1</td>\n",
       "      <td>12</td>\n",
       "    </tr>\n",
       "    <tr>\n",
       "      <th>2</th>\n",
       "      <td>Industry Baby</td>\n",
       "      <td>Lil Nas X &amp; Jack Harlow</td>\n",
       "      <td>2</td>\n",
       "      <td>2</td>\n",
       "      <td>10</td>\n",
       "    </tr>\n",
       "    <tr>\n",
       "      <th>3</th>\n",
       "      <td>Way 2 Sexy</td>\n",
       "      <td>Drake Featuring Future &amp; Young Thug</td>\n",
       "      <td>3</td>\n",
       "      <td>1</td>\n",
       "      <td>4</td>\n",
       "    </tr>\n",
       "    <tr>\n",
       "      <th>4</th>\n",
       "      <td>Fancy Like</td>\n",
       "      <td>Walker Hayes</td>\n",
       "      <td>5</td>\n",
       "      <td>5</td>\n",
       "      <td>15</td>\n",
       "    </tr>\n",
       "  </tbody>\n",
       "</table>\n",
       "</div>"
      ],
      "text/plain": [
       "           title                               artist last_week_rank  \\\n",
       "0    My Universe                       Coldplay x BTS              -   \n",
       "1           Stay        The Kid LAROI & Justin Bieber              1   \n",
       "2  Industry Baby              Lil Nas X & Jack Harlow              2   \n",
       "3     Way 2 Sexy  Drake Featuring Future & Young Thug              3   \n",
       "4     Fancy Like                         Walker Hayes              5   \n",
       "\n",
       "  peak_position weeks_on_chart  \n",
       "0             1              1  \n",
       "1             1             12  \n",
       "2             2             10  \n",
       "3             1              4  \n",
       "4             5             15  "
      ]
     },
     "execution_count": 72,
     "metadata": {},
     "output_type": "execute_result"
    }
   ],
   "source": [
    "top_100.head()"
   ]
  },
  {
   "cell_type": "code",
   "execution_count": 74,
   "id": "983e5d68",
   "metadata": {},
   "outputs": [
    {
     "data": {
      "text/html": [
       "<div>\n",
       "<style scoped>\n",
       "    .dataframe tbody tr th:only-of-type {\n",
       "        vertical-align: middle;\n",
       "    }\n",
       "\n",
       "    .dataframe tbody tr th {\n",
       "        vertical-align: top;\n",
       "    }\n",
       "\n",
       "    .dataframe thead th {\n",
       "        text-align: right;\n",
       "    }\n",
       "</style>\n",
       "<table border=\"1\" class=\"dataframe\">\n",
       "  <thead>\n",
       "    <tr style=\"text-align: right;\">\n",
       "      <th></th>\n",
       "      <th>title</th>\n",
       "      <th>artist</th>\n",
       "      <th>last_week_rank</th>\n",
       "      <th>peak_position</th>\n",
       "      <th>weeks_on_chart</th>\n",
       "    </tr>\n",
       "  </thead>\n",
       "  <tbody>\n",
       "    <tr>\n",
       "      <th>count</th>\n",
       "      <td>100</td>\n",
       "      <td>100</td>\n",
       "      <td>100</td>\n",
       "      <td>100</td>\n",
       "      <td>100</td>\n",
       "    </tr>\n",
       "    <tr>\n",
       "      <th>unique</th>\n",
       "      <td>100</td>\n",
       "      <td>74</td>\n",
       "      <td>83</td>\n",
       "      <td>58</td>\n",
       "      <td>30</td>\n",
       "    </tr>\n",
       "    <tr>\n",
       "      <th>top</th>\n",
       "      <td>Pipe Down</td>\n",
       "      <td>YoungBoy Never Broke Again</td>\n",
       "      <td>-</td>\n",
       "      <td>1</td>\n",
       "      <td>1</td>\n",
       "    </tr>\n",
       "    <tr>\n",
       "      <th>freq</th>\n",
       "      <td>1</td>\n",
       "      <td>15</td>\n",
       "      <td>18</td>\n",
       "      <td>9</td>\n",
       "      <td>18</td>\n",
       "    </tr>\n",
       "  </tbody>\n",
       "</table>\n",
       "</div>"
      ],
      "text/plain": [
       "            title                      artist last_week_rank peak_position  \\\n",
       "count         100                         100            100           100   \n",
       "unique        100                          74             83            58   \n",
       "top     Pipe Down  YoungBoy Never Broke Again              -             1   \n",
       "freq            1                          15             18             9   \n",
       "\n",
       "       weeks_on_chart  \n",
       "count             100  \n",
       "unique             30  \n",
       "top                 1  \n",
       "freq               18  "
      ]
     },
     "execution_count": 74,
     "metadata": {},
     "output_type": "execute_result"
    }
   ],
   "source": [
    "top_100.describe()"
   ]
  },
  {
   "cell_type": "markdown",
   "id": "ba34bbf2",
   "metadata": {},
   "source": [
    "at this first look it is impressive, that only 74 artist are making the 100 most popular songs :-) "
   ]
  }
 ],
 "metadata": {
  "kernelspec": {
   "display_name": "Python 3",
   "language": "python",
   "name": "python3"
  },
  "language_info": {
   "codemirror_mode": {
    "name": "ipython",
    "version": 3
   },
   "file_extension": ".py",
   "mimetype": "text/x-python",
   "name": "python",
   "nbconvert_exporter": "python",
   "pygments_lexer": "ipython3",
   "version": "3.8.8"
  },
  "toc": {
   "base_numbering": 1,
   "nav_menu": {},
   "number_sections": true,
   "sideBar": true,
   "skip_h1_title": false,
   "title_cell": "Table of Contents",
   "title_sidebar": "Contents",
   "toc_cell": true,
   "toc_position": {},
   "toc_section_display": true,
   "toc_window_display": false
  },
  "varInspector": {
   "cols": {
    "lenName": 16,
    "lenType": 16,
    "lenVar": 40
   },
   "kernels_config": {
    "python": {
     "delete_cmd_postfix": "",
     "delete_cmd_prefix": "del ",
     "library": "var_list.py",
     "varRefreshCmd": "print(var_dic_list())"
    },
    "r": {
     "delete_cmd_postfix": ") ",
     "delete_cmd_prefix": "rm(",
     "library": "var_list.r",
     "varRefreshCmd": "cat(var_dic_list()) "
    }
   },
   "types_to_exclude": [
    "module",
    "function",
    "builtin_function_or_method",
    "instance",
    "_Feature"
   ],
   "window_display": false
  }
 },
 "nbformat": 4,
 "nbformat_minor": 5
}
